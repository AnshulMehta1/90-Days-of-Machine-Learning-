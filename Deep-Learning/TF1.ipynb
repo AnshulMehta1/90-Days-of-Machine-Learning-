{
  "nbformat": 4,
  "nbformat_minor": 0,
  "metadata": {
    "colab": {
      "name": "TF1.ipynb",
      "provenance": [],
      "collapsed_sections": []
    },
    "kernelspec": {
      "name": "python3",
      "display_name": "Python 3"
    },
    "language_info": {
      "name": "python"
    }
  },
  "cells": [
    {
      "cell_type": "markdown",
      "metadata": {
        "id": "iD_3kjBDf7mQ"
      },
      "source": [
        "The first Notebook on Tensorflow"
      ]
    },
    {
      "cell_type": "code",
      "metadata": {
        "id": "7ejuVYyTkkrg"
      },
      "source": [
        "import tensorflow as tf\n",
        "import numpy as np\n",
        "import matplotlib.pyplot as plt\n"
      ],
      "execution_count": null,
      "outputs": []
    },
    {
      "cell_type": "code",
      "source": [
        "X=np.array([-7.0,-4.0,-1.0,2.0,5.0,8.0,11.0,14.0])\n",
        "y=np.array([3.0,6.0,9.0,12.0,15.0,18.0,21.0,24.0])\n",
        "X=tf.constant(X)\n",
        "y=tf.constant(y)"
      ],
      "metadata": {
        "id": "3JjYlAKTiggb"
      },
      "execution_count": null,
      "outputs": []
    },
    {
      "cell_type": "code",
      "metadata": {
        "id": "tqeX6_lWlnGT",
        "colab": {
          "base_uri": "https://localhost:8080/"
        },
        "outputId": "bf80b1fe-1dd5-4d20-f3ab-3dd8b655238a"
      },
      "source": [
        "# Housing Price Prediction With Tensors and Neural Networks \n",
        "# Creating a sample tensor for Housing price prediction\n",
        "house_info=tf.constant([\"bedrooms\",\"bathrooms\",\"garages\"])\n",
        "house_price=tf.constant([939700])\n",
        "house_info,house_price\n",
        "# Output gives the shape of the tensors\n",
        "# (<tf.Tensor: shape=(3,), dtype=string, numpy=array([b'bedrooms', b'bathrooms', b'garages'], dtype=object)>,\n",
        "#  <tf.Tensor: shape=(1,), dtype=int32, numpy=array([939700], dtype=int32)>)"
      ],
      "execution_count": null,
      "outputs": [
        {
          "output_type": "execute_result",
          "data": {
            "text/plain": [
              "(<tf.Tensor: shape=(3,), dtype=string, numpy=array([b'bedrooms', b'bathrooms', b'garages'], dtype=object)>,\n",
              " <tf.Tensor: shape=(1,), dtype=int32, numpy=array([939700], dtype=int32)>)"
            ]
          },
          "metadata": {},
          "execution_count": 5
        }
      ]
    },
    {
      "cell_type": "code",
      "source": [
        "# Turn a numpy array to tf by just passing it as a param in tf.constant\n",
        "# Modelling Steps \n",
        "tf.random.set_seed(42)\n",
        "# The good news is that by carefully setting the random seed across your pipeline you can achieve reproducibility.\n",
        "# The “seed” is a starting point for the sequence and the guarantee is that if you start from the same seed you will get the same sequence\n",
        "# of numbers. That said, you also want to test your experiments across different seed values.\n",
        "# Create a Sequential Model\n",
        "model=tf.keras.Sequential()\n",
        "model.add(tf.keras.layers.Dense(1))\n",
        "\n",
        "# Because 1 Shaped ip and 1 shaped op\n",
        "\n",
        "# Compile \n",
        "# Loss function here is surronding the mean absolute error\n",
        "# The Mean Absolute Error(MAE) is the average of all absolute errors. The formula is: Sum of (Prediction-True Value)/n\n",
        "model.compile(loss=tf.keras.losses.mae,optimizer=tf.keras.optimizers.SGD(),metrics=[\"mae\"])\n",
        "# Stochastic gradient descent is an iterative method for optimizing an objective function with suitable smoothness properties. \n",
        "# Optimizer around SGD\n",
        "\n",
        "# Model Fitting with the fix in dim expansion for shapes\n",
        "model.fit(tf.expand_dims(X, axis=-1),y,epochs=5)"
      ],
      "metadata": {
        "colab": {
          "base_uri": "https://localhost:8080/"
        },
        "id": "7uQeoQZveXlf",
        "outputId": "413719c5-b529-43dd-e11e-847cb0473194"
      },
      "execution_count": null,
      "outputs": [
        {
          "output_type": "stream",
          "name": "stdout",
          "text": [
            "Epoch 1/5\n",
            "1/1 [==============================] - 0s 260ms/step - loss: 11.5048 - mae: 11.5048\n",
            "Epoch 2/5\n",
            "1/1 [==============================] - 0s 5ms/step - loss: 11.3723 - mae: 11.3723\n",
            "Epoch 3/5\n",
            "1/1 [==============================] - 0s 6ms/step - loss: 11.2398 - mae: 11.2398\n",
            "Epoch 4/5\n",
            "1/1 [==============================] - 0s 5ms/step - loss: 11.1073 - mae: 11.1073\n",
            "Epoch 5/5\n",
            "1/1 [==============================] - 0s 6ms/step - loss: 10.9748 - mae: 10.9748\n"
          ]
        },
        {
          "output_type": "execute_result",
          "data": {
            "text/plain": [
              "<keras.callbacks.History at 0x7f2bb73b6d10>"
            ]
          },
          "metadata": {},
          "execution_count": 11
        }
      ]
    },
    {
      "cell_type": "markdown",
      "source": [
        "Output \n",
        "\n",
        "Epoch 1/5\n",
        "1/1 [==============================] - 0s 443ms/step - loss: 11.5048 - mae: 11.5048\n",
        "\n",
        "Epoch 2/5\n",
        "1/1 [==============================] - 0s 7ms/step - loss: 11.3723 - mae: 11.3723\n",
        "\n",
        "Epoch 3/5\n",
        "1/1 [==============================] - 0s 7ms/step - loss: 11.2398 - mae: 11.2398\n",
        "\n",
        "Epoch 4/5\n",
        "1/1 [==============================] - 0s 10ms/step - loss: 11.1073 - mae: 11.1073\n",
        "\n",
        "Epoch 5/5\n",
        "1/1 [==============================] - 0s 5ms/step - loss: 10.9748 - mae: 10.9748\n",
        "\n",
        "<keras.callbacks.History at 0x7f2bb753bb50>"
      ],
      "metadata": {
        "id": "HXU73mftkAZv"
      }
    },
    {
      "cell_type": "code",
      "source": [
        "y_predict=model.predict([17.0])\n",
        "# Loss Function 11 no che\n",
        "y_predict+11\n",
        "# Even then it is far away from 27\n",
        "# Epcohs is the number of iterations the model will go through the training data\n"
      ],
      "metadata": {
        "colab": {
          "base_uri": "https://localhost:8080/"
        },
        "id": "BNp7z77_m23d",
        "outputId": "ae463eb3-c56d-40b9-e20c-a5393b17eb5c"
      },
      "execution_count": null,
      "outputs": [
        {
          "output_type": "execute_result",
          "data": {
            "text/plain": [
              "array([[23.71602]], dtype=float32)"
            ]
          },
          "metadata": {},
          "execution_count": 14
        }
      ]
    },
    {
      "cell_type": "markdown",
      "source": [
        "Improve the model <br>\n",
        "Increase the Layers <br>\n",
        "Increase the hiddenn units or Neurons <br>\n",
        "Change the activation Function <br>\n",
        "\n",
        "<b>While Comipiling </b>\n",
        "\n",
        "Chabge the learning rate <br>\n",
        "Change the Optimization Function<br>\n",
        "\n",
        "<b> Fitting </b>\n",
        "\n",
        "More epochs and Larger training Data\n",
        "\n"
      ],
      "metadata": {
        "id": "bJh4K5w2oJIP"
      }
    },
    {
      "cell_type": "markdown",
      "source": [
        "Adam optimizer involves a combination of two gradient descent methodologies: \n",
        "\n",
        "Momentum: \n",
        "\n",
        "This algorithm is used to accelerate the gradient descent algorithm by taking into consideration the ‘exponentially weighted average’ of the gradients. Using averages makes the algorithm converge towards the minima in a faster pace. \n",
        "\n",
        "\n",
        "\n",
        "Root Mean Square Propagation (RMSP): \n",
        "\n",
        "\n",
        "\n",
        "\n",
        "Root mean square prop or RMSprop is an adaptive learning algorithm that tries to improve AdaGrad. Instead of taking the cumulative sum of squared gradients like in AdaGrad, it takes the ‘exponential moving average’.\n",
        "\n"
      ],
      "metadata": {
        "id": "t4Nt3wosuuxB"
      }
    },
    {
      "cell_type": "code",
      "source": [
        "\n",
        "model=tf.keras.Sequential()\n",
        "# Adding 4 Layers\n",
        "# Adding 1st Layer\n",
        "model.add(tf.keras.layers.Dense(100,activation=\"relu\"))\n",
        "# Adding 2nd Layer\n",
        "model.add(tf.keras.layers.Dense(100,activation=\"relu\"))\n",
        "# Adding 3rd Layer\n",
        "model.add(tf.keras.layers.Dense(100,activation=\"relu\"))\n",
        "# Here the 100 represent the number of neurons \n",
        "model.add(tf.keras.layers.Dense(1))\n",
        "# So increase in the Number of Layers and the number of neurons\n",
        "\n",
        "# Changes in compilation\n",
        "model.compile(loss=\"mae\",optimizer=tf.keras.optimizers.Adam(lr=0.01),metrics=\"mae\")\n",
        "# So there's a change in the optimizer where Adam is used with a lr --> Learning Rate which indicates how\n",
        "# hard the model is pushed to improve, higher lr the harder the model is pushed to it's boundaries\n",
        "\n",
        "# Fitting the model\n",
        "model.fit(tf.expand_dims(X,axis=-1),y,epochs=100)\n",
        "\n",
        "\n"
      ],
      "metadata": {
        "colab": {
          "base_uri": "https://localhost:8080/"
        },
        "id": "aAK6tE1Zn8pT",
        "outputId": "6baad350-7387-4f30-f888-1793d5e25924"
      },
      "execution_count": null,
      "outputs": [
        {
          "output_type": "stream",
          "name": "stderr",
          "text": [
            "/usr/local/lib/python3.7/dist-packages/keras/optimizer_v2/adam.py:105: UserWarning: The `lr` argument is deprecated, use `learning_rate` instead.\n",
            "  super(Adam, self).__init__(name, **kwargs)\n"
          ]
        },
        {
          "output_type": "stream",
          "name": "stdout",
          "text": [
            "Epoch 1/100\n",
            "1/1 [==============================] - 0s 433ms/step - loss: 13.0557 - mae: 13.0557\n",
            "Epoch 2/100\n",
            "1/1 [==============================] - 0s 5ms/step - loss: 10.5067 - mae: 10.5067\n",
            "Epoch 3/100\n",
            "1/1 [==============================] - 0s 7ms/step - loss: 7.5663 - mae: 7.5663\n",
            "Epoch 4/100\n",
            "1/1 [==============================] - 0s 7ms/step - loss: 4.1418 - mae: 4.1418\n",
            "Epoch 5/100\n",
            "1/1 [==============================] - 0s 5ms/step - loss: 5.2048 - mae: 5.2048\n",
            "Epoch 6/100\n",
            "1/1 [==============================] - 0s 6ms/step - loss: 4.8777 - mae: 4.8777\n",
            "Epoch 7/100\n",
            "1/1 [==============================] - 0s 7ms/step - loss: 3.8712 - mae: 3.8712\n",
            "Epoch 8/100\n",
            "1/1 [==============================] - 0s 5ms/step - loss: 4.1877 - mae: 4.1877\n",
            "Epoch 9/100\n",
            "1/1 [==============================] - 0s 6ms/step - loss: 3.9614 - mae: 3.9614\n",
            "Epoch 10/100\n",
            "1/1 [==============================] - 0s 8ms/step - loss: 3.6248 - mae: 3.6248\n",
            "Epoch 11/100\n",
            "1/1 [==============================] - 0s 5ms/step - loss: 3.7904 - mae: 3.7904\n",
            "Epoch 12/100\n",
            "1/1 [==============================] - 0s 5ms/step - loss: 4.0559 - mae: 4.0559\n",
            "Epoch 13/100\n",
            "1/1 [==============================] - 0s 6ms/step - loss: 3.7454 - mae: 3.7454\n",
            "Epoch 14/100\n",
            "1/1 [==============================] - 0s 5ms/step - loss: 3.3898 - mae: 3.3898\n",
            "Epoch 15/100\n",
            "1/1 [==============================] - 0s 5ms/step - loss: 3.5021 - mae: 3.5021\n",
            "Epoch 16/100\n",
            "1/1 [==============================] - 0s 8ms/step - loss: 3.9981 - mae: 3.9981\n",
            "Epoch 17/100\n",
            "1/1 [==============================] - 0s 5ms/step - loss: 3.5190 - mae: 3.5190\n",
            "Epoch 18/100\n",
            "1/1 [==============================] - 0s 9ms/step - loss: 3.0519 - mae: 3.0519\n",
            "Epoch 19/100\n",
            "1/1 [==============================] - 0s 6ms/step - loss: 3.2618 - mae: 3.2618\n",
            "Epoch 20/100\n",
            "1/1 [==============================] - 0s 7ms/step - loss: 3.2906 - mae: 3.2906\n",
            "Epoch 21/100\n",
            "1/1 [==============================] - 0s 8ms/step - loss: 2.8586 - mae: 2.8586\n",
            "Epoch 22/100\n",
            "1/1 [==============================] - 0s 8ms/step - loss: 2.4855 - mae: 2.4855\n",
            "Epoch 23/100\n",
            "1/1 [==============================] - 0s 5ms/step - loss: 2.7534 - mae: 2.7534\n",
            "Epoch 24/100\n",
            "1/1 [==============================] - 0s 8ms/step - loss: 2.4910 - mae: 2.4910\n",
            "Epoch 25/100\n",
            "1/1 [==============================] - 0s 6ms/step - loss: 1.8510 - mae: 1.8510\n",
            "Epoch 26/100\n",
            "1/1 [==============================] - 0s 5ms/step - loss: 1.9188 - mae: 1.9188\n",
            "Epoch 27/100\n",
            "1/1 [==============================] - 0s 7ms/step - loss: 2.0796 - mae: 2.0796\n",
            "Epoch 28/100\n",
            "1/1 [==============================] - 0s 6ms/step - loss: 1.4675 - mae: 1.4675\n",
            "Epoch 29/100\n",
            "1/1 [==============================] - 0s 7ms/step - loss: 1.0400 - mae: 1.0400\n",
            "Epoch 30/100\n",
            "1/1 [==============================] - 0s 7ms/step - loss: 1.4212 - mae: 1.4212\n",
            "Epoch 31/100\n",
            "1/1 [==============================] - 0s 10ms/step - loss: 0.9506 - mae: 0.9506\n",
            "Epoch 32/100\n",
            "1/1 [==============================] - 0s 6ms/step - loss: 1.7192 - mae: 1.7192\n",
            "Epoch 33/100\n",
            "1/1 [==============================] - 0s 8ms/step - loss: 1.2247 - mae: 1.2247\n",
            "Epoch 34/100\n",
            "1/1 [==============================] - 0s 10ms/step - loss: 1.1591 - mae: 1.1591\n",
            "Epoch 35/100\n",
            "1/1 [==============================] - 0s 6ms/step - loss: 1.6979 - mae: 1.6979\n",
            "Epoch 36/100\n",
            "1/1 [==============================] - 0s 8ms/step - loss: 1.1546 - mae: 1.1546\n",
            "Epoch 37/100\n",
            "1/1 [==============================] - 0s 9ms/step - loss: 0.9537 - mae: 0.9537\n",
            "Epoch 38/100\n",
            "1/1 [==============================] - 0s 6ms/step - loss: 1.0910 - mae: 1.0910\n",
            "Epoch 39/100\n",
            "1/1 [==============================] - 0s 6ms/step - loss: 0.6432 - mae: 0.6432\n",
            "Epoch 40/100\n",
            "1/1 [==============================] - 0s 6ms/step - loss: 0.8753 - mae: 0.8753\n",
            "Epoch 41/100\n",
            "1/1 [==============================] - 0s 8ms/step - loss: 0.5887 - mae: 0.5887\n",
            "Epoch 42/100\n",
            "1/1 [==============================] - 0s 8ms/step - loss: 0.7880 - mae: 0.7880\n",
            "Epoch 43/100\n",
            "1/1 [==============================] - 0s 7ms/step - loss: 0.7017 - mae: 0.7017\n",
            "Epoch 44/100\n",
            "1/1 [==============================] - 0s 8ms/step - loss: 0.4563 - mae: 0.4563\n",
            "Epoch 45/100\n",
            "1/1 [==============================] - 0s 11ms/step - loss: 0.5996 - mae: 0.5996\n",
            "Epoch 46/100\n",
            "1/1 [==============================] - 0s 9ms/step - loss: 0.3719 - mae: 0.3719\n",
            "Epoch 47/100\n",
            "1/1 [==============================] - 0s 13ms/step - loss: 0.5279 - mae: 0.5279\n",
            "Epoch 48/100\n",
            "1/1 [==============================] - 0s 7ms/step - loss: 0.3622 - mae: 0.3622\n",
            "Epoch 49/100\n",
            "1/1 [==============================] - 0s 10ms/step - loss: 0.1665 - mae: 0.1665\n",
            "Epoch 50/100\n",
            "1/1 [==============================] - 0s 6ms/step - loss: 0.2310 - mae: 0.2310\n",
            "Epoch 51/100\n",
            "1/1 [==============================] - 0s 7ms/step - loss: 0.1972 - mae: 0.1972\n",
            "Epoch 52/100\n",
            "1/1 [==============================] - 0s 9ms/step - loss: 0.2248 - mae: 0.2248\n",
            "Epoch 53/100\n",
            "1/1 [==============================] - 0s 9ms/step - loss: 0.5684 - mae: 0.5684\n",
            "Epoch 54/100\n",
            "1/1 [==============================] - 0s 8ms/step - loss: 0.2387 - mae: 0.2387\n",
            "Epoch 55/100\n",
            "1/1 [==============================] - 0s 7ms/step - loss: 1.0018 - mae: 1.0018\n",
            "Epoch 56/100\n",
            "1/1 [==============================] - 0s 5ms/step - loss: 1.0642 - mae: 1.0642\n",
            "Epoch 57/100\n",
            "1/1 [==============================] - 0s 5ms/step - loss: 0.2493 - mae: 0.2493\n",
            "Epoch 58/100\n",
            "1/1 [==============================] - 0s 5ms/step - loss: 1.5412 - mae: 1.5412\n",
            "Epoch 59/100\n",
            "1/1 [==============================] - 0s 5ms/step - loss: 2.0827 - mae: 2.0827\n",
            "Epoch 60/100\n",
            "1/1 [==============================] - 0s 8ms/step - loss: 1.6125 - mae: 1.6125\n",
            "Epoch 61/100\n",
            "1/1 [==============================] - 0s 6ms/step - loss: 0.4155 - mae: 0.4155\n",
            "Epoch 62/100\n",
            "1/1 [==============================] - 0s 6ms/step - loss: 1.4511 - mae: 1.4511\n",
            "Epoch 63/100\n",
            "1/1 [==============================] - 0s 6ms/step - loss: 1.9870 - mae: 1.9870\n",
            "Epoch 64/100\n",
            "1/1 [==============================] - 0s 5ms/step - loss: 1.8835 - mae: 1.8835\n",
            "Epoch 65/100\n",
            "1/1 [==============================] - 0s 6ms/step - loss: 1.1587 - mae: 1.1587\n",
            "Epoch 66/100\n",
            "1/1 [==============================] - 0s 7ms/step - loss: 1.1748 - mae: 1.1748\n",
            "Epoch 67/100\n",
            "1/1 [==============================] - 0s 6ms/step - loss: 1.4460 - mae: 1.4460\n",
            "Epoch 68/100\n",
            "1/1 [==============================] - 0s 5ms/step - loss: 0.7722 - mae: 0.7722\n",
            "Epoch 69/100\n",
            "1/1 [==============================] - 0s 5ms/step - loss: 0.9003 - mae: 0.9003\n",
            "Epoch 70/100\n",
            "1/1 [==============================] - 0s 5ms/step - loss: 1.3106 - mae: 1.3106\n",
            "Epoch 71/100\n",
            "1/1 [==============================] - 0s 5ms/step - loss: 0.8680 - mae: 0.8680\n",
            "Epoch 72/100\n",
            "1/1 [==============================] - 0s 5ms/step - loss: 0.7610 - mae: 0.7610\n",
            "Epoch 73/100\n",
            "1/1 [==============================] - 0s 5ms/step - loss: 1.0548 - mae: 1.0548\n",
            "Epoch 74/100\n",
            "1/1 [==============================] - 0s 8ms/step - loss: 0.5253 - mae: 0.5253\n",
            "Epoch 75/100\n",
            "1/1 [==============================] - 0s 6ms/step - loss: 0.8900 - mae: 0.8900\n",
            "Epoch 76/100\n",
            "1/1 [==============================] - 0s 6ms/step - loss: 1.1961 - mae: 1.1961\n",
            "Epoch 77/100\n",
            "1/1 [==============================] - 0s 5ms/step - loss: 0.9236 - mae: 0.9236\n",
            "Epoch 78/100\n",
            "1/1 [==============================] - 0s 5ms/step - loss: 0.2203 - mae: 0.2203\n",
            "Epoch 79/100\n",
            "1/1 [==============================] - 0s 5ms/step - loss: 0.6461 - mae: 0.6461\n",
            "Epoch 80/100\n",
            "1/1 [==============================] - 0s 5ms/step - loss: 0.4191 - mae: 0.4191\n",
            "Epoch 81/100\n",
            "1/1 [==============================] - 0s 5ms/step - loss: 0.7816 - mae: 0.7816\n",
            "Epoch 82/100\n",
            "1/1 [==============================] - 0s 5ms/step - loss: 0.8552 - mae: 0.8552\n",
            "Epoch 83/100\n",
            "1/1 [==============================] - 0s 5ms/step - loss: 0.2941 - mae: 0.2941\n",
            "Epoch 84/100\n",
            "1/1 [==============================] - 0s 10ms/step - loss: 1.0521 - mae: 1.0521\n",
            "Epoch 85/100\n",
            "1/1 [==============================] - 0s 12ms/step - loss: 1.2122 - mae: 1.2122\n",
            "Epoch 86/100\n",
            "1/1 [==============================] - 0s 5ms/step - loss: 0.5811 - mae: 0.5811\n",
            "Epoch 87/100\n",
            "1/1 [==============================] - 0s 8ms/step - loss: 0.7700 - mae: 0.7700\n",
            "Epoch 88/100\n",
            "1/1 [==============================] - 0s 5ms/step - loss: 1.0745 - mae: 1.0745\n",
            "Epoch 89/100\n",
            "1/1 [==============================] - 0s 6ms/step - loss: 0.6354 - mae: 0.6354\n",
            "Epoch 90/100\n",
            "1/1 [==============================] - 0s 5ms/step - loss: 0.5407 - mae: 0.5407\n",
            "Epoch 91/100\n",
            "1/1 [==============================] - 0s 5ms/step - loss: 0.7824 - mae: 0.7824\n",
            "Epoch 92/100\n",
            "1/1 [==============================] - 0s 5ms/step - loss: 0.2666 - mae: 0.2666\n",
            "Epoch 93/100\n",
            "1/1 [==============================] - 0s 5ms/step - loss: 0.6492 - mae: 0.6492\n",
            "Epoch 94/100\n",
            "1/1 [==============================] - 0s 5ms/step - loss: 0.6164 - mae: 0.6164\n",
            "Epoch 95/100\n",
            "1/1 [==============================] - 0s 5ms/step - loss: 0.3155 - mae: 0.3155\n",
            "Epoch 96/100\n",
            "1/1 [==============================] - 0s 8ms/step - loss: 0.6037 - mae: 0.6037\n",
            "Epoch 97/100\n",
            "1/1 [==============================] - 0s 8ms/step - loss: 0.2925 - mae: 0.2925\n",
            "Epoch 98/100\n",
            "1/1 [==============================] - 0s 8ms/step - loss: 0.7433 - mae: 0.7433\n",
            "Epoch 99/100\n",
            "1/1 [==============================] - 0s 10ms/step - loss: 0.9569 - mae: 0.9569\n",
            "Epoch 100/100\n",
            "1/1 [==============================] - 0s 9ms/step - loss: 0.5638 - mae: 0.5638\n"
          ]
        },
        {
          "output_type": "execute_result",
          "data": {
            "text/plain": [
              "<keras.callbacks.History at 0x7f2bb5442d10>"
            ]
          },
          "metadata": {},
          "execution_count": 29
        }
      ]
    },
    {
      "cell_type": "code",
      "source": [
        "# Epochs thi pan farak padi sake che\n",
        "# Overfitting is happening\n",
        "y_pred=model.predict([17.0])\n",
        "y_pred\n",
        "# OP array([[28.267117]], dtype=float32)"
      ],
      "metadata": {
        "colab": {
          "base_uri": "https://localhost:8080/"
        },
        "id": "k2VvZc8bvne2",
        "outputId": "e9d9a29b-a063-4ffa-cb9c-c906d9e76eba"
      },
      "execution_count": null,
      "outputs": [
        {
          "output_type": "stream",
          "name": "stdout",
          "text": [
            "WARNING:tensorflow:6 out of the last 7 calls to <function Model.make_predict_function.<locals>.predict_function at 0x7f2bb536ec20> triggered tf.function retracing. Tracing is expensive and the excessive number of tracings could be due to (1) creating @tf.function repeatedly in a loop, (2) passing tensors with different shapes, (3) passing Python objects instead of tensors. For (1), please define your @tf.function outside of the loop. For (2), @tf.function has experimental_relax_shapes=True option that relaxes argument shapes that can avoid unnecessary retracing. For (3), please refer to https://www.tensorflow.org/guide/function#controlling_retracing and https://www.tensorflow.org/api_docs/python/tf/function for  more details.\n"
          ]
        },
        {
          "output_type": "execute_result",
          "data": {
            "text/plain": [
              "array([[28.267117]], dtype=float32)"
            ]
          },
          "metadata": {},
          "execution_count": 30
        }
      ]
    },
    {
      "cell_type": "code",
      "source": [
        "# Evaluating the Model\n",
        "# Build --> Compile --> Fit --> Evaluate --> Tweak --> Fit --> Evaluate --> Tweak and the cycle goes so on\n",
        "# Visualization is the Most important thing while evaluation model\n",
        "# Visualize the Model and the training and the prediction\n",
        "X=tf.range(-100,100,4)\n",
        "X\n",
        "# Creating new Data Set"
      ],
      "metadata": {
        "colab": {
          "base_uri": "https://localhost:8080/"
        },
        "id": "paN2A4z-x42K",
        "outputId": "9b396b3d-cf07-4172-cfcc-b35e664323d3"
      },
      "execution_count": null,
      "outputs": [
        {
          "output_type": "execute_result",
          "data": {
            "text/plain": [
              "<tf.Tensor: shape=(50,), dtype=int32, numpy=\n",
              "array([-100,  -96,  -92,  -88,  -84,  -80,  -76,  -72,  -68,  -64,  -60,\n",
              "        -56,  -52,  -48,  -44,  -40,  -36,  -32,  -28,  -24,  -20,  -16,\n",
              "        -12,   -8,   -4,    0,    4,    8,   12,   16,   20,   24,   28,\n",
              "         32,   36,   40,   44,   48,   52,   56,   60,   64,   68,   72,\n",
              "         76,   80,   84,   88,   92,   96], dtype=int32)>"
            ]
          },
          "metadata": {},
          "execution_count": 34
        }
      ]
    },
    {
      "cell_type": "code",
      "source": [
        "y=X+10\n",
        "y"
      ],
      "metadata": {
        "colab": {
          "base_uri": "https://localhost:8080/"
        },
        "id": "2VqrQIFUC0az",
        "outputId": "9f7f22b2-810c-4817-bba5-38194e2a5092"
      },
      "execution_count": null,
      "outputs": [
        {
          "output_type": "execute_result",
          "data": {
            "text/plain": [
              "<tf.Tensor: shape=(50,), dtype=int32, numpy=\n",
              "array([-90, -86, -82, -78, -74, -70, -66, -62, -58, -54, -50, -46, -42,\n",
              "       -38, -34, -30, -26, -22, -18, -14, -10,  -6,  -2,   2,   6,  10,\n",
              "        14,  18,  22,  26,  30,  34,  38,  42,  46,  50,  54,  58,  62,\n",
              "        66,  70,  74,  78,  82,  86,  90,  94,  98, 102, 106], dtype=int32)>"
            ]
          },
          "metadata": {},
          "execution_count": 35
        }
      ]
    },
    {
      "cell_type": "code",
      "source": [
        "# The three sets \n",
        "# Train --> 70-80% \n",
        "# Validation --> 10-15% tweaks are tested here\n",
        "# Test the remaining 10-15% data set\n",
        "len(X)\n",
        "# So Train Test only splitted here\n",
        "X_train=X[:40]\n",
        "X_test=X[40:]\n",
        "y_train=y[:40]\n",
        "y_test=y[40:]\n"
      ],
      "metadata": {
        "id": "x9fNmezXC9xE"
      },
      "execution_count": null,
      "outputs": []
    },
    {
      "cell_type": "code",
      "source": [
        "# Building a Neural Network for our Data\n",
        "model=tf.keras.Sequential()\n",
        "model.add(tf.keras.layers.Dense(100,activation=\"relu\"))\n",
        "model.add(tf.keras.layers.Dense(1))\n",
        "\n",
        "# Compiling the Model \n",
        "model.compile(loss=tf.keras.losses.mae,optimizer=tf.keras.optimizers.Adam(lr=0.01),metrics=\"mae\")\n",
        "\n",
        "# Fitting the Model on the training Data\n",
        "model.fit(tf.expand_dims(X_train,axis=-1),y_train,epochs=100)"
      ],
      "metadata": {
        "colab": {
          "base_uri": "https://localhost:8080/"
        },
        "id": "_v2AQ4XNEpZr",
        "outputId": "62a92aea-9d09-4913-9781-0dcb49e0f7d6"
      },
      "execution_count": null,
      "outputs": [
        {
          "output_type": "stream",
          "name": "stderr",
          "text": [
            "/usr/local/lib/python3.7/dist-packages/keras/optimizer_v2/adam.py:105: UserWarning: The `lr` argument is deprecated, use `learning_rate` instead.\n",
            "  super(Adam, self).__init__(name, **kwargs)\n"
          ]
        },
        {
          "output_type": "stream",
          "name": "stdout",
          "text": [
            "Epoch 1/100\n",
            "2/2 [==============================] - 1s 13ms/step - loss: 45.0037 - mae: 45.0037\n",
            "Epoch 2/100\n",
            "2/2 [==============================] - 0s 5ms/step - loss: 34.9745 - mae: 34.9745\n",
            "Epoch 3/100\n",
            "2/2 [==============================] - 0s 11ms/step - loss: 25.7018 - mae: 25.7018\n",
            "Epoch 4/100\n",
            "2/2 [==============================] - 0s 7ms/step - loss: 16.5150 - mae: 16.5150\n",
            "Epoch 5/100\n",
            "2/2 [==============================] - 0s 6ms/step - loss: 8.6639 - mae: 8.6639\n",
            "Epoch 6/100\n",
            "2/2 [==============================] - 0s 4ms/step - loss: 9.2892 - mae: 9.2892\n",
            "Epoch 7/100\n",
            "2/2 [==============================] - 0s 9ms/step - loss: 10.0144 - mae: 10.0144\n",
            "Epoch 8/100\n",
            "2/2 [==============================] - 0s 5ms/step - loss: 9.5557 - mae: 9.5557\n",
            "Epoch 9/100\n",
            "2/2 [==============================] - 0s 5ms/step - loss: 7.3849 - mae: 7.3849\n",
            "Epoch 10/100\n",
            "2/2 [==============================] - 0s 7ms/step - loss: 7.2949 - mae: 7.2949\n",
            "Epoch 11/100\n",
            "2/2 [==============================] - 0s 6ms/step - loss: 8.4103 - mae: 8.4103\n",
            "Epoch 12/100\n",
            "2/2 [==============================] - 0s 6ms/step - loss: 7.8134 - mae: 7.8134\n",
            "Epoch 13/100\n",
            "2/2 [==============================] - 0s 5ms/step - loss: 6.5210 - mae: 6.5210\n",
            "Epoch 14/100\n",
            "2/2 [==============================] - 0s 5ms/step - loss: 5.1424 - mae: 5.1424\n",
            "Epoch 15/100\n",
            "2/2 [==============================] - 0s 5ms/step - loss: 4.4452 - mae: 4.4452\n",
            "Epoch 16/100\n",
            "2/2 [==============================] - 0s 4ms/step - loss: 5.5853 - mae: 5.5853\n",
            "Epoch 17/100\n",
            "2/2 [==============================] - 0s 4ms/step - loss: 5.5107 - mae: 5.5107\n",
            "Epoch 18/100\n",
            "2/2 [==============================] - 0s 4ms/step - loss: 4.1321 - mae: 4.1321\n",
            "Epoch 19/100\n",
            "2/2 [==============================] - 0s 4ms/step - loss: 4.0945 - mae: 4.0945\n",
            "Epoch 20/100\n",
            "2/2 [==============================] - 0s 7ms/step - loss: 4.5616 - mae: 4.5616\n",
            "Epoch 21/100\n",
            "2/2 [==============================] - 0s 6ms/step - loss: 4.5909 - mae: 4.5909\n",
            "Epoch 22/100\n",
            "2/2 [==============================] - 0s 4ms/step - loss: 4.1464 - mae: 4.1464\n",
            "Epoch 23/100\n",
            "2/2 [==============================] - 0s 4ms/step - loss: 3.9499 - mae: 3.9499\n",
            "Epoch 24/100\n",
            "2/2 [==============================] - 0s 10ms/step - loss: 4.1875 - mae: 4.1875\n",
            "Epoch 25/100\n",
            "2/2 [==============================] - 0s 13ms/step - loss: 4.0401 - mae: 4.0401\n",
            "Epoch 26/100\n",
            "2/2 [==============================] - 0s 8ms/step - loss: 3.9554 - mae: 3.9554\n",
            "Epoch 27/100\n",
            "2/2 [==============================] - 0s 6ms/step - loss: 3.9149 - mae: 3.9149\n",
            "Epoch 28/100\n",
            "2/2 [==============================] - 0s 8ms/step - loss: 3.7521 - mae: 3.7521\n",
            "Epoch 29/100\n",
            "2/2 [==============================] - 0s 11ms/step - loss: 3.7731 - mae: 3.7731\n",
            "Epoch 30/100\n",
            "2/2 [==============================] - 0s 13ms/step - loss: 3.9049 - mae: 3.9049\n",
            "Epoch 31/100\n",
            "2/2 [==============================] - 0s 6ms/step - loss: 3.8419 - mae: 3.8419\n",
            "Epoch 32/100\n",
            "2/2 [==============================] - 0s 6ms/step - loss: 3.6274 - mae: 3.6274\n",
            "Epoch 33/100\n",
            "2/2 [==============================] - 0s 7ms/step - loss: 3.6212 - mae: 3.6212\n",
            "Epoch 34/100\n",
            "2/2 [==============================] - 0s 9ms/step - loss: 3.7809 - mae: 3.7809\n",
            "Epoch 35/100\n",
            "2/2 [==============================] - 0s 4ms/step - loss: 3.7792 - mae: 3.7792\n",
            "Epoch 36/100\n",
            "2/2 [==============================] - 0s 8ms/step - loss: 3.6335 - mae: 3.6335\n",
            "Epoch 37/100\n",
            "2/2 [==============================] - 0s 24ms/step - loss: 3.4233 - mae: 3.4233\n",
            "Epoch 38/100\n",
            "2/2 [==============================] - 0s 8ms/step - loss: 3.3522 - mae: 3.3522\n",
            "Epoch 39/100\n",
            "2/2 [==============================] - 0s 8ms/step - loss: 3.4848 - mae: 3.4848\n",
            "Epoch 40/100\n",
            "2/2 [==============================] - 0s 16ms/step - loss: 3.3184 - mae: 3.3184\n",
            "Epoch 41/100\n",
            "2/2 [==============================] - 0s 5ms/step - loss: 3.2633 - mae: 3.2633\n",
            "Epoch 42/100\n",
            "2/2 [==============================] - 0s 11ms/step - loss: 3.2650 - mae: 3.2650\n",
            "Epoch 43/100\n",
            "2/2 [==============================] - 0s 5ms/step - loss: 3.2207 - mae: 3.2207\n",
            "Epoch 44/100\n",
            "2/2 [==============================] - 0s 7ms/step - loss: 3.1628 - mae: 3.1628\n",
            "Epoch 45/100\n",
            "2/2 [==============================] - 0s 19ms/step - loss: 3.1647 - mae: 3.1647\n",
            "Epoch 46/100\n",
            "2/2 [==============================] - 0s 10ms/step - loss: 3.2711 - mae: 3.2711\n",
            "Epoch 47/100\n",
            "2/2 [==============================] - 0s 9ms/step - loss: 3.1694 - mae: 3.1694\n",
            "Epoch 48/100\n",
            "2/2 [==============================] - 0s 8ms/step - loss: 3.0208 - mae: 3.0208\n",
            "Epoch 49/100\n",
            "2/2 [==============================] - 0s 6ms/step - loss: 2.9335 - mae: 2.9335\n",
            "Epoch 50/100\n",
            "2/2 [==============================] - 0s 11ms/step - loss: 2.8728 - mae: 2.8728\n",
            "Epoch 51/100\n",
            "2/2 [==============================] - 0s 8ms/step - loss: 2.9054 - mae: 2.9054\n",
            "Epoch 52/100\n",
            "2/2 [==============================] - 0s 20ms/step - loss: 2.8919 - mae: 2.8919\n",
            "Epoch 53/100\n",
            "2/2 [==============================] - 0s 8ms/step - loss: 2.7288 - mae: 2.7288\n",
            "Epoch 54/100\n",
            "2/2 [==============================] - 0s 6ms/step - loss: 2.7277 - mae: 2.7277\n",
            "Epoch 55/100\n",
            "2/2 [==============================] - 0s 11ms/step - loss: 2.7082 - mae: 2.7082\n",
            "Epoch 56/100\n",
            "2/2 [==============================] - 0s 6ms/step - loss: 2.6545 - mae: 2.6545\n",
            "Epoch 57/100\n",
            "2/2 [==============================] - 0s 6ms/step - loss: 2.5534 - mae: 2.5534\n",
            "Epoch 58/100\n",
            "2/2 [==============================] - 0s 10ms/step - loss: 2.4639 - mae: 2.4639\n",
            "Epoch 59/100\n",
            "2/2 [==============================] - 0s 9ms/step - loss: 2.5232 - mae: 2.5232\n",
            "Epoch 60/100\n",
            "2/2 [==============================] - 0s 7ms/step - loss: 2.5578 - mae: 2.5578\n",
            "Epoch 61/100\n",
            "2/2 [==============================] - 0s 8ms/step - loss: 2.4875 - mae: 2.4875\n",
            "Epoch 62/100\n",
            "2/2 [==============================] - 0s 6ms/step - loss: 2.2879 - mae: 2.2879\n",
            "Epoch 63/100\n",
            "2/2 [==============================] - 0s 7ms/step - loss: 2.3027 - mae: 2.3027\n",
            "Epoch 64/100\n",
            "2/2 [==============================] - 0s 7ms/step - loss: 2.1395 - mae: 2.1395\n",
            "Epoch 65/100\n",
            "2/2 [==============================] - 0s 6ms/step - loss: 2.0776 - mae: 2.0776\n",
            "Epoch 66/100\n",
            "2/2 [==============================] - 0s 6ms/step - loss: 2.2062 - mae: 2.2062\n",
            "Epoch 67/100\n",
            "2/2 [==============================] - 0s 5ms/step - loss: 2.0438 - mae: 2.0438\n",
            "Epoch 68/100\n",
            "2/2 [==============================] - 0s 11ms/step - loss: 1.9774 - mae: 1.9774\n",
            "Epoch 69/100\n",
            "2/2 [==============================] - 0s 5ms/step - loss: 1.7750 - mae: 1.7750\n",
            "Epoch 70/100\n",
            "2/2 [==============================] - 0s 7ms/step - loss: 1.8079 - mae: 1.8079\n",
            "Epoch 71/100\n",
            "2/2 [==============================] - 0s 10ms/step - loss: 1.5526 - mae: 1.5526\n",
            "Epoch 72/100\n",
            "2/2 [==============================] - 0s 26ms/step - loss: 1.5969 - mae: 1.5969\n",
            "Epoch 73/100\n",
            "2/2 [==============================] - 0s 5ms/step - loss: 1.4118 - mae: 1.4118\n",
            "Epoch 74/100\n",
            "2/2 [==============================] - 0s 16ms/step - loss: 1.2446 - mae: 1.2446\n",
            "Epoch 75/100\n",
            "2/2 [==============================] - 0s 9ms/step - loss: 1.7019 - mae: 1.7019\n",
            "Epoch 76/100\n",
            "2/2 [==============================] - 0s 13ms/step - loss: 1.3243 - mae: 1.3243\n",
            "Epoch 77/100\n",
            "2/2 [==============================] - 0s 23ms/step - loss: 1.4841 - mae: 1.4841\n",
            "Epoch 78/100\n",
            "2/2 [==============================] - 0s 6ms/step - loss: 2.6685 - mae: 2.6685\n",
            "Epoch 79/100\n",
            "2/2 [==============================] - 0s 9ms/step - loss: 1.4733 - mae: 1.4733\n",
            "Epoch 80/100\n",
            "2/2 [==============================] - 0s 12ms/step - loss: 0.8880 - mae: 0.8880\n",
            "Epoch 81/100\n",
            "2/2 [==============================] - 0s 5ms/step - loss: 0.9529 - mae: 0.9529\n",
            "Epoch 82/100\n",
            "2/2 [==============================] - 0s 9ms/step - loss: 1.4445 - mae: 1.4445\n",
            "Epoch 83/100\n",
            "2/2 [==============================] - 0s 5ms/step - loss: 1.0279 - mae: 1.0279\n",
            "Epoch 84/100\n",
            "2/2 [==============================] - 0s 5ms/step - loss: 1.4838 - mae: 1.4838\n",
            "Epoch 85/100\n",
            "2/2 [==============================] - 0s 12ms/step - loss: 1.6449 - mae: 1.6449\n",
            "Epoch 86/100\n",
            "2/2 [==============================] - 0s 9ms/step - loss: 0.9915 - mae: 0.9915\n",
            "Epoch 87/100\n",
            "2/2 [==============================] - 0s 9ms/step - loss: 1.5819 - mae: 1.5819\n",
            "Epoch 88/100\n",
            "2/2 [==============================] - 0s 7ms/step - loss: 2.0977 - mae: 2.0977\n",
            "Epoch 89/100\n",
            "2/2 [==============================] - 0s 6ms/step - loss: 3.0668 - mae: 3.0668\n",
            "Epoch 90/100\n",
            "2/2 [==============================] - 0s 7ms/step - loss: 0.7677 - mae: 0.7677\n",
            "Epoch 91/100\n",
            "2/2 [==============================] - 0s 7ms/step - loss: 1.1598 - mae: 1.1598\n",
            "Epoch 92/100\n",
            "2/2 [==============================] - 0s 8ms/step - loss: 1.6536 - mae: 1.6536\n",
            "Epoch 93/100\n",
            "2/2 [==============================] - 0s 9ms/step - loss: 1.9217 - mae: 1.9217\n",
            "Epoch 94/100\n",
            "2/2 [==============================] - 0s 5ms/step - loss: 0.8329 - mae: 0.8329\n",
            "Epoch 95/100\n",
            "2/2 [==============================] - 0s 10ms/step - loss: 1.0288 - mae: 1.0288\n",
            "Epoch 96/100\n",
            "2/2 [==============================] - 0s 9ms/step - loss: 1.0460 - mae: 1.0460\n",
            "Epoch 97/100\n",
            "2/2 [==============================] - 0s 7ms/step - loss: 0.8704 - mae: 0.8704\n",
            "Epoch 98/100\n",
            "2/2 [==============================] - 0s 5ms/step - loss: 0.9578 - mae: 0.9578\n",
            "Epoch 99/100\n",
            "2/2 [==============================] - 0s 6ms/step - loss: 0.4460 - mae: 0.4460\n",
            "Epoch 100/100\n",
            "2/2 [==============================] - 0s 5ms/step - loss: 1.0238 - mae: 1.0238\n"
          ]
        },
        {
          "output_type": "execute_result",
          "data": {
            "text/plain": [
              "<keras.callbacks.History at 0x7f2baf190e50>"
            ]
          },
          "metadata": {},
          "execution_count": 41
        }
      ]
    },
    {
      "cell_type": "code",
      "source": [
        "# Predicting on the Splittes Test Data\n",
        "y_predict=model.predict([X_test])\n",
        "# Check the difference between the y_predict and y_test values here\n",
        "y_test,y_predict"
      ],
      "metadata": {
        "colab": {
          "base_uri": "https://localhost:8080/"
        },
        "id": "0mtxoRhnF7zc",
        "outputId": "addf6020-1489-4cdb-a6d2-df0c033ac74e"
      },
      "execution_count": null,
      "outputs": [
        {
          "output_type": "stream",
          "name": "stdout",
          "text": [
            "WARNING:tensorflow:Layers in a Sequential model should only have a single input tensor, but we receive a <class 'tuple'> input: (<tf.Tensor 'IteratorGetNext:0' shape=(None,) dtype=int32>,)\n",
            "Consider rewriting this model with the Functional API.\n"
          ]
        },
        {
          "output_type": "execute_result",
          "data": {
            "text/plain": [
              "(<tf.Tensor: shape=(10,), dtype=int32, numpy=array([ 70,  74,  78,  82,  86,  90,  94,  98, 102, 106], dtype=int32)>,\n",
              " array([[ 67.7049  ],\n",
              "        [ 71.57828 ],\n",
              "        [ 75.4547  ],\n",
              "        [ 79.3311  ],\n",
              "        [ 83.207504],\n",
              "        [ 87.08392 ],\n",
              "        [ 90.960335],\n",
              "        [ 94.83675 ],\n",
              "        [ 98.71315 ],\n",
              "        [102.58957 ]], dtype=float32))"
            ]
          },
          "metadata": {},
          "execution_count": 42
        }
      ]
    },
    {
      "cell_type": "code",
      "source": [
        "# How to automatically build a model with Input shape\n",
        "tf.random.set_seed(42)\n",
        "model=tf.keras.Sequential()\n",
        "model.add(tf.keras.layers.Dense(9,input_shape=[1]))\n",
        "model.add(tf.keras.layers.Dense(1,input_shape=[1]))\n",
        "# Passing one number as input to get one value has Output here\n",
        "\n",
        "model.compile(loss=tf.keras.losses.mae,optimizer=tf.keras.optimizers.SGD(),metrics=\"mae\")\n",
        "\n"
      ],
      "metadata": {
        "id": "XzeJXjgjGsU7"
      },
      "execution_count": null,
      "outputs": []
    },
    {
      "cell_type": "code",
      "source": [
        "model.summary()\n",
        "# By specifying the IP Shape we have a Automatic build of the Model without even building it in the previous cell\n",
        "#  Non trainable params arennt updated during the training. They arise when we bring in already learne patterns \n",
        "# or parameters from other Models during Transfer Learning "
      ],
      "metadata": {
        "colab": {
          "base_uri": "https://localhost:8080/"
        },
        "id": "sjgqIiTSHkAx",
        "outputId": "fc0dfd77-15a3-4348-cf96-c959a23b9442"
      },
      "execution_count": null,
      "outputs": [
        {
          "output_type": "stream",
          "name": "stdout",
          "text": [
            "Model: \"sequential_21\"\n",
            "_________________________________________________________________\n",
            " Layer (type)                Output Shape              Param #   \n",
            "=================================================================\n",
            " dense_47 (Dense)            (None, 9)                 18        \n",
            "                                                                 \n",
            " dense_48 (Dense)            (None, 1)                 10        \n",
            "                                                                 \n",
            "=================================================================\n",
            "Total params: 28\n",
            "Trainable params: 28\n",
            "Non-trainable params: 0\n",
            "_________________________________________________________________\n"
          ]
        }
      ]
    },
    {
      "cell_type": "code",
      "source": [
        "#Weights and Biases\n",
        "# MITs Intro to Deep Learning \n",
        "# Also learn what are trainable Params,\n",
        "# 1 Layer of 9 + 1 Layer of 1 \n",
        "model.fit(tf.expand_dims(X_train,axis=-1),y_train,epochs=100,verbose=2)\n",
        "# Verbose tells the progress of the model , 0 --> Silent , 1--> Interactive, Progress Bar, 2--> Non Interactive one line per epoch\n"
      ],
      "metadata": {
        "id": "gffx-WdhHuOJ",
        "colab": {
          "base_uri": "https://localhost:8080/"
        },
        "outputId": "74b29478-c84d-4e9a-aad7-1cf7d86976f9"
      },
      "execution_count": null,
      "outputs": [
        {
          "output_type": "stream",
          "name": "stdout",
          "text": [
            "Epoch 1/100\n",
            "2/2 - 0s - loss: 25.8250 - mae: 25.8250 - 280ms/epoch - 140ms/step\n",
            "Epoch 2/100\n",
            "2/2 - 0s - loss: 24.3820 - mae: 24.3820 - 4ms/epoch - 2ms/step\n",
            "Epoch 3/100\n",
            "2/2 - 0s - loss: 29.1371 - mae: 29.1371 - 3ms/epoch - 2ms/step\n",
            "Epoch 4/100\n",
            "2/2 - 0s - loss: 20.3640 - mae: 20.3640 - 4ms/epoch - 2ms/step\n",
            "Epoch 5/100\n",
            "2/2 - 0s - loss: 13.6997 - mae: 13.6997 - 4ms/epoch - 2ms/step\n",
            "Epoch 6/100\n",
            "2/2 - 0s - loss: 11.0246 - mae: 11.0246 - 4ms/epoch - 2ms/step\n",
            "Epoch 7/100\n",
            "2/2 - 0s - loss: 12.0272 - mae: 12.0272 - 4ms/epoch - 2ms/step\n",
            "Epoch 8/100\n",
            "2/2 - 0s - loss: 10.8640 - mae: 10.8640 - 3ms/epoch - 2ms/step\n",
            "Epoch 9/100\n",
            "2/2 - 0s - loss: 37.5767 - mae: 37.5767 - 4ms/epoch - 2ms/step\n",
            "Epoch 10/100\n",
            "2/2 - 0s - loss: 25.2322 - mae: 25.2322 - 3ms/epoch - 2ms/step\n",
            "Epoch 11/100\n",
            "2/2 - 0s - loss: 10.2423 - mae: 10.2423 - 4ms/epoch - 2ms/step\n",
            "Epoch 12/100\n",
            "2/2 - 0s - loss: 25.4007 - mae: 25.4007 - 4ms/epoch - 2ms/step\n",
            "Epoch 13/100\n",
            "2/2 - 0s - loss: 16.8407 - mae: 16.8407 - 3ms/epoch - 2ms/step\n",
            "Epoch 14/100\n",
            "2/2 - 0s - loss: 25.6591 - mae: 25.6591 - 6ms/epoch - 3ms/step\n",
            "Epoch 15/100\n",
            "2/2 - 0s - loss: 17.5313 - mae: 17.5313 - 4ms/epoch - 2ms/step\n",
            "Epoch 16/100\n",
            "2/2 - 0s - loss: 10.0286 - mae: 10.0286 - 3ms/epoch - 2ms/step\n",
            "Epoch 17/100\n",
            "2/2 - 0s - loss: 18.5527 - mae: 18.5527 - 205ms/epoch - 102ms/step\n",
            "Epoch 18/100\n",
            "2/2 - 0s - loss: 11.7249 - mae: 11.7249 - 3ms/epoch - 1ms/step\n",
            "Epoch 19/100\n",
            "2/2 - 0s - loss: 16.3733 - mae: 16.3733 - 3ms/epoch - 2ms/step\n",
            "Epoch 20/100\n",
            "2/2 - 0s - loss: 8.2406 - mae: 8.2406 - 4ms/epoch - 2ms/step\n",
            "Epoch 21/100\n",
            "2/2 - 0s - loss: 14.4532 - mae: 14.4532 - 8ms/epoch - 4ms/step\n",
            "Epoch 22/100\n",
            "2/2 - 0s - loss: 12.8734 - mae: 12.8734 - 5ms/epoch - 2ms/step\n",
            "Epoch 23/100\n",
            "2/2 - 0s - loss: 15.5021 - mae: 15.5021 - 4ms/epoch - 2ms/step\n",
            "Epoch 24/100\n",
            "2/2 - 0s - loss: 15.2934 - mae: 15.2934 - 3ms/epoch - 2ms/step\n",
            "Epoch 25/100\n",
            "2/2 - 0s - loss: 14.3530 - mae: 14.3530 - 5ms/epoch - 2ms/step\n",
            "Epoch 26/100\n",
            "2/2 - 0s - loss: 19.3766 - mae: 19.3766 - 4ms/epoch - 2ms/step\n",
            "Epoch 27/100\n",
            "2/2 - 0s - loss: 11.4255 - mae: 11.4255 - 6ms/epoch - 3ms/step\n",
            "Epoch 28/100\n",
            "2/2 - 0s - loss: 28.9932 - mae: 28.9932 - 4ms/epoch - 2ms/step\n",
            "Epoch 29/100\n",
            "2/2 - 0s - loss: 9.2415 - mae: 9.2415 - 5ms/epoch - 3ms/step\n",
            "Epoch 30/100\n",
            "2/2 - 0s - loss: 29.7551 - mae: 29.7551 - 4ms/epoch - 2ms/step\n",
            "Epoch 31/100\n",
            "2/2 - 0s - loss: 53.9789 - mae: 53.9789 - 4ms/epoch - 2ms/step\n",
            "Epoch 32/100\n",
            "2/2 - 0s - loss: 9.5416 - mae: 9.5416 - 5ms/epoch - 3ms/step\n",
            "Epoch 33/100\n",
            "2/2 - 0s - loss: 12.1308 - mae: 12.1308 - 5ms/epoch - 2ms/step\n",
            "Epoch 34/100\n",
            "2/2 - 0s - loss: 23.8105 - mae: 23.8105 - 4ms/epoch - 2ms/step\n",
            "Epoch 35/100\n",
            "2/2 - 0s - loss: 12.6284 - mae: 12.6284 - 6ms/epoch - 3ms/step\n",
            "Epoch 36/100\n",
            "2/2 - 0s - loss: 21.5606 - mae: 21.5606 - 4ms/epoch - 2ms/step\n",
            "Epoch 37/100\n",
            "2/2 - 0s - loss: 11.3427 - mae: 11.3427 - 6ms/epoch - 3ms/step\n",
            "Epoch 38/100\n",
            "2/2 - 0s - loss: 13.4128 - mae: 13.4128 - 6ms/epoch - 3ms/step\n",
            "Epoch 39/100\n",
            "2/2 - 0s - loss: 10.7596 - mae: 10.7596 - 5ms/epoch - 2ms/step\n",
            "Epoch 40/100\n",
            "2/2 - 0s - loss: 16.5347 - mae: 16.5347 - 4ms/epoch - 2ms/step\n",
            "Epoch 41/100\n",
            "2/2 - 0s - loss: 10.9347 - mae: 10.9347 - 4ms/epoch - 2ms/step\n",
            "Epoch 42/100\n",
            "2/2 - 0s - loss: 9.2710 - mae: 9.2710 - 3ms/epoch - 2ms/step\n",
            "Epoch 43/100\n",
            "2/2 - 0s - loss: 9.5784 - mae: 9.5784 - 3ms/epoch - 2ms/step\n",
            "Epoch 44/100\n",
            "2/2 - 0s - loss: 27.9230 - mae: 27.9230 - 4ms/epoch - 2ms/step\n",
            "Epoch 45/100\n",
            "2/2 - 0s - loss: 11.2568 - mae: 11.2568 - 5ms/epoch - 3ms/step\n",
            "Epoch 46/100\n",
            "2/2 - 0s - loss: 13.8606 - mae: 13.8606 - 5ms/epoch - 3ms/step\n",
            "Epoch 47/100\n",
            "2/2 - 0s - loss: 11.9128 - mae: 11.9128 - 9ms/epoch - 5ms/step\n",
            "Epoch 48/100\n",
            "2/2 - 0s - loss: 16.9436 - mae: 16.9436 - 5ms/epoch - 3ms/step\n",
            "Epoch 49/100\n",
            "2/2 - 0s - loss: 9.7711 - mae: 9.7711 - 5ms/epoch - 3ms/step\n",
            "Epoch 50/100\n",
            "2/2 - 0s - loss: 14.1691 - mae: 14.1691 - 7ms/epoch - 3ms/step\n",
            "Epoch 51/100\n",
            "2/2 - 0s - loss: 11.7316 - mae: 11.7316 - 6ms/epoch - 3ms/step\n",
            "Epoch 52/100\n",
            "2/2 - 0s - loss: 31.4273 - mae: 31.4273 - 6ms/epoch - 3ms/step\n",
            "Epoch 53/100\n",
            "2/2 - 0s - loss: 14.7380 - mae: 14.7380 - 5ms/epoch - 3ms/step\n",
            "Epoch 54/100\n",
            "2/2 - 0s - loss: 24.6450 - mae: 24.6450 - 6ms/epoch - 3ms/step\n",
            "Epoch 55/100\n",
            "2/2 - 0s - loss: 23.9290 - mae: 23.9290 - 6ms/epoch - 3ms/step\n",
            "Epoch 56/100\n",
            "2/2 - 0s - loss: 11.1224 - mae: 11.1224 - 7ms/epoch - 3ms/step\n",
            "Epoch 57/100\n",
            "2/2 - 0s - loss: 13.0673 - mae: 13.0673 - 6ms/epoch - 3ms/step\n",
            "Epoch 58/100\n",
            "2/2 - 0s - loss: 9.7820 - mae: 9.7820 - 5ms/epoch - 2ms/step\n",
            "Epoch 59/100\n",
            "2/2 - 0s - loss: 13.2548 - mae: 13.2548 - 5ms/epoch - 2ms/step\n",
            "Epoch 60/100\n",
            "2/2 - 0s - loss: 10.8384 - mae: 10.8384 - 5ms/epoch - 3ms/step\n",
            "Epoch 61/100\n",
            "2/2 - 0s - loss: 13.4310 - mae: 13.4310 - 7ms/epoch - 4ms/step\n",
            "Epoch 62/100\n",
            "2/2 - 0s - loss: 17.4324 - mae: 17.4324 - 4ms/epoch - 2ms/step\n",
            "Epoch 63/100\n",
            "2/2 - 0s - loss: 9.1392 - mae: 9.1392 - 4ms/epoch - 2ms/step\n",
            "Epoch 64/100\n",
            "2/2 - 0s - loss: 18.3082 - mae: 18.3082 - 4ms/epoch - 2ms/step\n",
            "Epoch 65/100\n",
            "2/2 - 0s - loss: 10.0951 - mae: 10.0951 - 6ms/epoch - 3ms/step\n",
            "Epoch 66/100\n",
            "2/2 - 0s - loss: 24.1608 - mae: 24.1608 - 3ms/epoch - 2ms/step\n",
            "Epoch 67/100\n",
            "2/2 - 0s - loss: 10.8545 - mae: 10.8545 - 4ms/epoch - 2ms/step\n",
            "Epoch 68/100\n",
            "2/2 - 0s - loss: 10.7447 - mae: 10.7447 - 5ms/epoch - 2ms/step\n",
            "Epoch 69/100\n",
            "2/2 - 0s - loss: 23.1494 - mae: 23.1494 - 5ms/epoch - 3ms/step\n",
            "Epoch 70/100\n",
            "2/2 - 0s - loss: 8.8283 - mae: 8.8283 - 5ms/epoch - 2ms/step\n",
            "Epoch 71/100\n",
            "2/2 - 0s - loss: 16.0478 - mae: 16.0478 - 5ms/epoch - 3ms/step\n",
            "Epoch 72/100\n",
            "2/2 - 0s - loss: 7.7424 - mae: 7.7424 - 5ms/epoch - 3ms/step\n",
            "Epoch 73/100\n",
            "2/2 - 0s - loss: 10.1529 - mae: 10.1529 - 5ms/epoch - 3ms/step\n",
            "Epoch 74/100\n",
            "2/2 - 0s - loss: 28.3243 - mae: 28.3243 - 6ms/epoch - 3ms/step\n",
            "Epoch 75/100\n",
            "2/2 - 0s - loss: 10.0113 - mae: 10.0113 - 5ms/epoch - 3ms/step\n",
            "Epoch 76/100\n",
            "2/2 - 0s - loss: 12.9292 - mae: 12.9292 - 6ms/epoch - 3ms/step\n",
            "Epoch 77/100\n",
            "2/2 - 0s - loss: 17.9156 - mae: 17.9156 - 6ms/epoch - 3ms/step\n",
            "Epoch 78/100\n",
            "2/2 - 0s - loss: 8.9594 - mae: 8.9594 - 5ms/epoch - 2ms/step\n",
            "Epoch 79/100\n",
            "2/2 - 0s - loss: 28.7569 - mae: 28.7569 - 6ms/epoch - 3ms/step\n",
            "Epoch 80/100\n",
            "2/2 - 0s - loss: 31.1006 - mae: 31.1006 - 4ms/epoch - 2ms/step\n",
            "Epoch 81/100\n",
            "2/2 - 0s - loss: 13.4381 - mae: 13.4381 - 5ms/epoch - 2ms/step\n",
            "Epoch 82/100\n",
            "2/2 - 0s - loss: 14.3098 - mae: 14.3098 - 5ms/epoch - 2ms/step\n",
            "Epoch 83/100\n",
            "2/2 - 0s - loss: 18.8408 - mae: 18.8408 - 4ms/epoch - 2ms/step\n",
            "Epoch 84/100\n",
            "2/2 - 0s - loss: 9.4534 - mae: 9.4534 - 4ms/epoch - 2ms/step\n",
            "Epoch 85/100\n",
            "2/2 - 0s - loss: 25.2358 - mae: 25.2358 - 5ms/epoch - 3ms/step\n",
            "Epoch 86/100\n",
            "2/2 - 0s - loss: 16.4553 - mae: 16.4553 - 4ms/epoch - 2ms/step\n",
            "Epoch 87/100\n",
            "2/2 - 0s - loss: 11.4716 - mae: 11.4716 - 5ms/epoch - 3ms/step\n",
            "Epoch 88/100\n",
            "2/2 - 0s - loss: 27.0837 - mae: 27.0837 - 5ms/epoch - 3ms/step\n",
            "Epoch 89/100\n",
            "2/2 - 0s - loss: 9.7436 - mae: 9.7436 - 4ms/epoch - 2ms/step\n",
            "Epoch 90/100\n",
            "2/2 - 0s - loss: 19.1182 - mae: 19.1182 - 5ms/epoch - 3ms/step\n",
            "Epoch 91/100\n",
            "2/2 - 0s - loss: 10.6054 - mae: 10.6054 - 4ms/epoch - 2ms/step\n",
            "Epoch 92/100\n",
            "2/2 - 0s - loss: 18.3354 - mae: 18.3354 - 5ms/epoch - 2ms/step\n",
            "Epoch 93/100\n",
            "2/2 - 0s - loss: 6.8585 - mae: 6.8585 - 6ms/epoch - 3ms/step\n",
            "Epoch 94/100\n",
            "2/2 - 0s - loss: 13.0888 - mae: 13.0888 - 5ms/epoch - 3ms/step\n",
            "Epoch 95/100\n",
            "2/2 - 0s - loss: 18.4903 - mae: 18.4903 - 5ms/epoch - 3ms/step\n",
            "Epoch 96/100\n",
            "2/2 - 0s - loss: 10.4167 - mae: 10.4167 - 5ms/epoch - 2ms/step\n",
            "Epoch 97/100\n",
            "2/2 - 0s - loss: 14.4875 - mae: 14.4875 - 4ms/epoch - 2ms/step\n",
            "Epoch 98/100\n",
            "2/2 - 0s - loss: 6.6161 - mae: 6.6161 - 4ms/epoch - 2ms/step\n",
            "Epoch 99/100\n",
            "2/2 - 0s - loss: 12.6107 - mae: 12.6107 - 5ms/epoch - 2ms/step\n",
            "Epoch 100/100\n",
            "2/2 - 0s - loss: 19.4145 - mae: 19.4145 - 5ms/epoch - 2ms/step\n"
          ]
        },
        {
          "output_type": "execute_result",
          "data": {
            "text/plain": [
              "<keras.callbacks.History at 0x7f2baf0782d0>"
            ]
          },
          "metadata": {},
          "execution_count": 55
        }
      ]
    },
    {
      "cell_type": "code",
      "source": [
        "# Some more Visualizations\n",
        "from tensorflow.keras.utils import plot_model\n",
        "plot_model(model=model,show_shapes=True)\n",
        "# IP to Layer 1 ma 9 connections , 9 Layer to 1 Layer waala ma bija 9 connections and +2 IP OP waal"
      ],
      "metadata": {
        "colab": {
          "base_uri": "https://localhost:8080/",
          "height": 312
        },
        "id": "D1ZhVSnxUlaK",
        "outputId": "4d950f7d-c39d-4088-a758-ee9f55282e2c"
      },
      "execution_count": null,
      "outputs": [
        {
          "output_type": "execute_result",
          "data": {
            "image/png": "[encoded data removed]",
            "text/plain": [
              "<IPython.core.display.Image object>"
            ]
          },
          "metadata": {},
          "execution_count": 59
        }
      ]
    },
    {
      "cell_type": "code",
      "source": [
        "# Also we can name the layers subsequently \n"
      ],
      "metadata": {
        "id": "El-RaQ6JWn-p"
      },
      "execution_count": null,
      "outputs": []
    }
  ]
}
