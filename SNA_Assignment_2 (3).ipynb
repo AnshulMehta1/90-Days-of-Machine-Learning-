{
  "nbformat": 4,
  "nbformat_minor": 0,
  "metadata": {
    "colab": {
      "name": "SNA Assignment 2.ipynb",
      "provenance": []
    },
    "kernelspec": {
      "name": "python3",
      "display_name": "Python 3"
    },
    "language_info": {
      "name": "python"
    }
  },
  "cells": [
    {
      "cell_type": "code",
      "execution_count": 23,
      "metadata": {
        "id": "Vx7MSNYoySAV"
      },
      "outputs": [],
      "source": [
        "import numpy as np\n",
        "\n",
        "\n",
        "def get_pagerank(adj_matrix, DAMPING_FACTOR=0.15, EPSILON=0.001):\n",
        "    \"\"\"[summary]\n",
        "        pagerank values calculation\n",
        "    Arguments:\n",
        "        adj_matrix {[float[][]]} -- [[input Adjacent matrix lists like [[1, 0], [0, 1]]]\n",
        "    Keyword Arguments:\n",
        "        DAMPING_FACTOR {float} -- [factor of residual probability] (default: {0.15})\n",
        "        EPSILON {float} -- [factor of change comparision] (default: {0.01})\n",
        "    Returns:\n",
        "        [float[]] -- [pagerank values]\n",
        "    \"\"\"\n",
        "\n",
        "    # initialize\n",
        "    page_length = adj_matrix.shape[0]\n",
        "    pagerank = np.ones(page_length)\n",
        "    new_pagerank = np.ones(page_length)\n",
        "    escape = DAMPING_FACTOR / page_length\n",
        "\n",
        "    # normalize\n",
        "    normalize_adj_matrix = adj_matrix / np.linalg.norm(adj_matrix, ord=1, axis=1, keepdims=True)\n",
        "    normalize_adj_matrix = np.nan_to_num(normalize_adj_matrix)\n",
        "    is_coverage = False\n",
        "    while not is_coverage:\n",
        "        for node in range(page_length):\n",
        "            single_rank = escape + (1-DAMPING_FACTOR) * np.dot(normalize_adj_matrix.T, new_pagerank)[node]\n",
        "            new_pagerank[node] = single_rank\n",
        "\n",
        "        # normalize pagerank\n",
        "        normalize_pagerank = lambda x: x / sum(new_pagerank)\n",
        "        new_pagerank = normalize_pagerank(new_pagerank)\n",
        "\n",
        "        # check is coverage\n",
        "        diff = abs(sum(new_pagerank - pagerank))\n",
        "\n",
        "        if diff < EPSILON:\n",
        "            is_coverage = True\n",
        "        else:\n",
        "            pagerank = new_pagerank.copy()\n",
        "\n",
        "    return new_pagerank"
      ]
    },
    {
      "cell_type": "code",
      "source": [
        "import numpy as np\n",
        "import pandas as pd\n",
        "import seaborn as sns"
      ],
      "metadata": {
        "id": "ST4aiPus40Nh"
      },
      "execution_count": 3,
      "outputs": []
    },
    {
      "cell_type": "code",
      "source": [
        "import networkx as nx"
      ],
      "metadata": {
        "id": "ywdh_vNq7m3G"
      },
      "execution_count": 5,
      "outputs": []
    },
    {
      "cell_type": "code",
      "source": [
        "main_df=pd.read_csv('/content/dataset.csv')"
      ],
      "metadata": {
        "id": "GG9Ux8n1Bl39"
      },
      "execution_count": 6,
      "outputs": []
    },
    {
      "cell_type": "code",
      "source": [
        "main_df.head()"
      ],
      "metadata": {
        "colab": {
          "base_uri": "https://localhost:8080/",
          "height": 206
        },
        "id": "LpvaB0zrs7O9",
        "outputId": "c9305140-3301-4e51-a47c-8af4a4996e6d"
      },
      "execution_count": 8,
      "outputs": [
        {
          "output_type": "execute_result",
          "data": {
            "text/plain": [
              "   10  32\n",
              "0  10  33\n",
              "1  10  34\n",
              "2  10  35\n",
              "3  10  36\n",
              "4  10  37"
            ],
            "text/html": [
              "\n",
              "  <div id=\"df-12f50d9d-3021-4357-8472-fbc9f6c172de\">\n",
              "    <div class=\"colab-df-container\">\n",
              "      <div>\n",
              "<style scoped>\n",
              "    .dataframe tbody tr th:only-of-type {\n",
              "        vertical-align: middle;\n",
              "    }\n",
              "\n",
              "    .dataframe tbody tr th {\n",
              "        vertical-align: top;\n",
              "    }\n",
              "\n",
              "    .dataframe thead th {\n",
              "        text-align: right;\n",
              "    }\n",
              "</style>\n",
              "<table border=\"1\" class=\"dataframe\">\n",
              "  <thead>\n",
              "    <tr style=\"text-align: right;\">\n",
              "      <th></th>\n",
              "      <th>10</th>\n",
              "      <th>32</th>\n",
              "    </tr>\n",
              "  </thead>\n",
              "  <tbody>\n",
              "    <tr>\n",
              "      <th>0</th>\n",
              "      <td>10</td>\n",
              "      <td>33</td>\n",
              "    </tr>\n",
              "    <tr>\n",
              "      <th>1</th>\n",
              "      <td>10</td>\n",
              "      <td>34</td>\n",
              "    </tr>\n",
              "    <tr>\n",
              "      <th>2</th>\n",
              "      <td>10</td>\n",
              "      <td>35</td>\n",
              "    </tr>\n",
              "    <tr>\n",
              "      <th>3</th>\n",
              "      <td>10</td>\n",
              "      <td>36</td>\n",
              "    </tr>\n",
              "    <tr>\n",
              "      <th>4</th>\n",
              "      <td>10</td>\n",
              "      <td>37</td>\n",
              "    </tr>\n",
              "  </tbody>\n",
              "</table>\n",
              "</div>\n",
              "      <button class=\"colab-df-convert\" onclick=\"convertToInteractive('df-12f50d9d-3021-4357-8472-fbc9f6c172de')\"\n",
              "              title=\"Convert this dataframe to an interactive table.\"\n",
              "              style=\"display:none;\">\n",
              "        \n",
              "  <svg xmlns=\"http://www.w3.org/2000/svg\" height=\"24px\"viewBox=\"0 0 24 24\"\n",
              "       width=\"24px\">\n",
              "    <path d=\"M0 0h24v24H0V0z\" fill=\"none\"/>\n",
              "    <path d=\"M18.56 5.44l.94 2.06.94-2.06 2.06-.94-2.06-.94-.94-2.06-.94 2.06-2.06.94zm-11 1L8.5 8.5l.94-2.06 2.06-.94-2.06-.94L8.5 2.5l-.94 2.06-2.06.94zm10 10l.94 2.06.94-2.06 2.06-.94-2.06-.94-.94-2.06-.94 2.06-2.06.94z\"/><path d=\"M17.41 7.96l-1.37-1.37c-.4-.4-.92-.59-1.43-.59-.52 0-1.04.2-1.43.59L10.3 9.45l-7.72 7.72c-.78.78-.78 2.05 0 2.83L4 21.41c.39.39.9.59 1.41.59.51 0 1.02-.2 1.41-.59l7.78-7.78 2.81-2.81c.8-.78.8-2.07 0-2.86zM5.41 20L4 18.59l7.72-7.72 1.47 1.35L5.41 20z\"/>\n",
              "  </svg>\n",
              "      </button>\n",
              "      \n",
              "  <style>\n",
              "    .colab-df-container {\n",
              "      display:flex;\n",
              "      flex-wrap:wrap;\n",
              "      gap: 12px;\n",
              "    }\n",
              "\n",
              "    .colab-df-convert {\n",
              "      background-color: #E8F0FE;\n",
              "      border: none;\n",
              "      border-radius: 50%;\n",
              "      cursor: pointer;\n",
              "      display: none;\n",
              "      fill: #1967D2;\n",
              "      height: 32px;\n",
              "      padding: 0 0 0 0;\n",
              "      width: 32px;\n",
              "    }\n",
              "\n",
              "    .colab-df-convert:hover {\n",
              "      background-color: #E2EBFA;\n",
              "      box-shadow: 0px 1px 2px rgba(60, 64, 67, 0.3), 0px 1px 3px 1px rgba(60, 64, 67, 0.15);\n",
              "      fill: #174EA6;\n",
              "    }\n",
              "\n",
              "    [theme=dark] .colab-df-convert {\n",
              "      background-color: #3B4455;\n",
              "      fill: #D2E3FC;\n",
              "    }\n",
              "\n",
              "    [theme=dark] .colab-df-convert:hover {\n",
              "      background-color: #434B5C;\n",
              "      box-shadow: 0px 1px 3px 1px rgba(0, 0, 0, 0.15);\n",
              "      filter: drop-shadow(0px 1px 2px rgba(0, 0, 0, 0.3));\n",
              "      fill: #FFFFFF;\n",
              "    }\n",
              "  </style>\n",
              "\n",
              "      <script>\n",
              "        const buttonEl =\n",
              "          document.querySelector('#df-12f50d9d-3021-4357-8472-fbc9f6c172de button.colab-df-convert');\n",
              "        buttonEl.style.display =\n",
              "          google.colab.kernel.accessAllowed ? 'block' : 'none';\n",
              "\n",
              "        async function convertToInteractive(key) {\n",
              "          const element = document.querySelector('#df-12f50d9d-3021-4357-8472-fbc9f6c172de');\n",
              "          const dataTable =\n",
              "            await google.colab.kernel.invokeFunction('convertToInteractive',\n",
              "                                                     [key], {});\n",
              "          if (!dataTable) return;\n",
              "\n",
              "          const docLinkHtml = 'Like what you see? Visit the ' +\n",
              "            '<a target=\"_blank\" href=https://colab.research.google.com/notebooks/data_table.ipynb>data table notebook</a>'\n",
              "            + ' to learn more about interactive tables.';\n",
              "          element.innerHTML = '';\n",
              "          dataTable['output_type'] = 'display_data';\n",
              "          await google.colab.output.renderOutput(dataTable, element);\n",
              "          const docLink = document.createElement('div');\n",
              "          docLink.innerHTML = docLinkHtml;\n",
              "          element.appendChild(docLink);\n",
              "        }\n",
              "      </script>\n",
              "    </div>\n",
              "  </div>\n",
              "  "
            ]
          },
          "metadata": {},
          "execution_count": 8
        }
      ]
    },
    {
      "cell_type": "code",
      "source": [
        "G=nx.Graph()\n",
        "for i in range(len(main_df)):\n",
        "  # G.add_node(main_df.iloc[i])\n",
        "  G.add_edge(main_df.iloc[i,0],main_df.iloc[i,1])\n",
        "nx.draw(G)"
      ],
      "metadata": {
        "colab": {
          "base_uri": "https://localhost:8080/",
          "height": 319
        },
        "id": "yRyUHzMs7zh-",
        "outputId": "0b898943-92f0-4450-d2d3-03e28ece2e71"
      },
      "execution_count": 7,
      "outputs": [
        {
          "output_type": "display_data",
          "data": {
            "text/plain": [
              "<Figure size 432x288 with 1 Axes>"
            ],
            "image/png": "[encoded data removed]"
          },
          "metadata": {}
        }
      ]
    },
    {
      "cell_type": "code",
      "source": [
        "# 1475 Nodes in the First Column and 829 Users\n",
        "print(len(main_df['10'].unique()))\n",
        "# 829 Unique Users\n",
        "unique_list=main_df['10'].unique()\n",
        "unique_list"
      ],
      "metadata": {
        "colab": {
          "base_uri": "https://localhost:8080/"
        },
        "id": "hHrBZMqgtnqw",
        "outputId": "d4516982-cd0c-4f5f-88d3-87713b10fb1d"
      },
      "execution_count": 16,
      "outputs": [
        {
          "output_type": "stream",
          "name": "stdout",
          "text": [
            "829\n"
          ]
        },
        {
          "output_type": "execute_result",
          "data": {
            "text/plain": [
              "array([ 10,  11,  12,  13,  14,  15,  16,  17,  18,  19,  20,  21,  22,\n",
              "        23,  24,  25,  26,  27,  28,  29,  30,  31,  32,  33,  34,  35,\n",
              "        36,  37,  38,  39,  40,  41,  42,  43,  44,  45,  46,  47,  48,\n",
              "        49,  50,  51,  52,  53,  54,  55,  56,  57,  58,  59,  60,  61,\n",
              "        62,  63,  64,  65,  66,  67,  68,  69,  70,  71,  72,  73,  74,\n",
              "        75,  76,  77,  78,  79,  80,  81,  82,  83,  84,  85,  86,  87,\n",
              "        88,  89,  90,  91,  92,  93,  94,  95,  96,  97,  98,  99, 100,\n",
              "       101, 102, 103, 104, 105, 106, 107, 108, 109, 110, 111, 112, 113,\n",
              "       114, 115, 116, 117, 118, 119, 120, 121, 122, 123, 124, 125, 126,\n",
              "       127, 128, 129, 130, 131, 132, 133, 134, 135, 136, 137, 138, 139,\n",
              "       140, 141, 142, 143, 144, 145, 146, 147, 148, 149, 150, 151, 152,\n",
              "       153, 154, 155, 156, 157, 158, 159, 160, 161, 162, 163, 164, 165,\n",
              "       166, 167, 168, 169, 170, 171, 172, 173, 174, 175, 176, 177, 178,\n",
              "       179, 180, 181, 182, 183, 184, 185, 186, 187, 188, 189, 190, 191,\n",
              "       192, 193, 194, 195, 196, 197, 198, 199, 200, 201, 202, 203, 204,\n",
              "       205, 206, 207, 208, 209, 210, 211, 212, 213, 214, 215, 216, 217,\n",
              "       218, 219, 220, 221, 222, 223, 224, 225, 226, 227, 228, 229, 230,\n",
              "       231, 232, 233, 234, 235, 236, 237, 238, 239, 240, 241, 242, 243,\n",
              "       244, 245, 246, 247, 248, 249, 250, 251, 252, 253, 254, 255, 256,\n",
              "       257, 258, 259, 260, 261, 262, 263, 264, 265, 266, 267, 268, 269,\n",
              "       270, 271, 272, 273, 274, 275, 276, 277, 278, 279, 280, 281, 282,\n",
              "       283, 284, 285, 286, 287, 288, 289, 290, 291, 292, 293, 294, 295,\n",
              "       296, 297, 298, 299, 300, 301, 302, 303, 304, 305, 306, 307, 308,\n",
              "       309, 310, 311, 312, 313, 314, 315, 316, 317, 318, 319, 320, 321,\n",
              "       322, 323, 324, 325, 326, 327, 328, 329, 330, 331, 332, 333, 334,\n",
              "       335, 336, 337, 338, 339, 340, 341, 342, 343, 344, 345, 346, 347,\n",
              "       348, 349, 350, 351, 352, 353, 354, 355, 356, 357, 358, 359, 360,\n",
              "       361, 362, 363, 364, 365, 366, 367, 368, 369, 370, 371, 372, 373,\n",
              "       374, 375, 376, 377, 378, 379, 380, 381, 382, 383, 384, 385, 386,\n",
              "       387, 388, 389, 390, 391, 392, 393, 394, 395, 396, 397, 398, 399,\n",
              "       400, 401, 402, 403, 404, 405, 406, 407, 408, 409, 410, 411, 412,\n",
              "       413, 414, 415, 416, 417, 418, 419, 420, 421, 422, 423, 424, 425,\n",
              "       426, 427, 428, 429, 430, 431, 432, 433, 434, 435, 436, 437, 438,\n",
              "       439, 440, 441, 442, 443, 444, 445, 446, 447, 448, 449, 450, 451,\n",
              "       452, 453, 454, 455, 456, 457, 458, 459, 460, 461, 462, 463, 464,\n",
              "       465, 466, 467, 468, 469, 470, 471, 472, 473, 474, 475, 476, 477,\n",
              "       478, 479, 480, 481, 482, 483, 484, 485, 486, 487, 488, 489, 490,\n",
              "       491, 492, 493, 494, 495, 496, 497, 498, 499, 500, 501, 502, 503,\n",
              "       504, 505, 506, 507, 508, 509, 510, 511, 512, 513, 514, 515, 516,\n",
              "       517, 518, 519, 520, 521, 522, 523, 524, 525, 526, 527, 528, 529,\n",
              "       530, 531, 532, 533, 534, 535, 536, 537, 538, 539, 540, 541, 542,\n",
              "       543, 544, 545, 546, 547, 548, 549, 550, 551, 552, 553, 554, 555,\n",
              "       556, 557, 558, 559, 560, 561, 562, 563, 564, 565, 566, 567, 568,\n",
              "       569, 570, 571, 572, 573, 574, 575, 576, 577, 578, 579, 580, 581,\n",
              "       582, 583, 584, 585, 586, 587, 588, 589, 590, 591, 592, 593, 594,\n",
              "       595, 596, 597, 598, 599, 600, 601, 602, 603, 604, 605, 606, 607,\n",
              "       608, 609, 610, 611, 612, 613, 614, 615, 616, 617, 618, 619, 620,\n",
              "       621, 622, 623, 624, 625, 626, 627, 628, 629, 630, 631, 632, 633,\n",
              "       634, 635, 636, 637, 638, 639, 640, 641, 642, 643, 644, 645, 646,\n",
              "       647, 648, 649, 650, 651, 652, 653, 654, 655, 656, 657, 658, 659,\n",
              "       660, 661, 662, 663, 664, 665, 666, 667, 668, 669, 670, 671, 672,\n",
              "       673, 674, 675, 676, 677, 678, 679, 680, 681, 682, 683, 684, 685,\n",
              "       686, 687, 688, 689, 690, 691, 692, 693, 694, 695, 696, 697, 698,\n",
              "       699, 700, 701, 702, 703, 704, 705, 706, 707, 708, 709, 710, 711,\n",
              "       712, 713, 714, 715, 716, 717, 718, 719, 720, 721, 722, 723, 724,\n",
              "       725, 726, 727, 728, 729, 730, 731, 732, 733, 734, 735, 736, 737,\n",
              "       738, 739, 740, 741, 742, 743, 744, 745, 746, 747, 748, 749, 750,\n",
              "       751, 752, 753, 754, 755, 756, 757, 758, 759, 760, 761, 762, 763,\n",
              "       764, 765, 766, 767, 768, 769, 770, 771, 772, 773, 774, 775, 776,\n",
              "       777, 778, 779, 780, 781, 782, 783, 784, 785, 786, 787, 788, 789,\n",
              "       790, 791, 792, 793, 794, 795, 796, 797, 798, 799, 800, 801, 802,\n",
              "       803, 804, 805, 806, 807, 808, 809, 810, 811, 812, 813, 814, 815,\n",
              "       816, 817, 818, 819, 820, 821, 822, 823, 824, 825, 826, 827, 828,\n",
              "       829,   1,   2,   3,   4,   5,   6,   7,   8,   9])"
            ]
          },
          "metadata": {},
          "execution_count": 16
        }
      ]
    },
    {
      "cell_type": "code",
      "source": [
        "from numpy import genfromtxt\n",
        "import numpy as np\n",
        "mydata = genfromtxt('dataset.csv', delimiter=',')\n",
        "print(mydata)\n",
        "print(type(mydata))"
      ],
      "metadata": {
        "colab": {
          "base_uri": "https://localhost:8080/"
        },
        "id": "uC5AVbOoPxyD",
        "outputId": "63969bee-b3c3-4900-dec4-10774479af10"
      },
      "execution_count": null,
      "outputs": [
        {
          "output_type": "stream",
          "name": "stdout",
          "text": [
            "[[10. 32.]\n",
            " [10. 33.]\n",
            " [10. 34.]\n",
            " ...\n",
            " [ 7. 29.]\n",
            " [ 8. 30.]\n",
            " [ 9. 31.]]\n",
            "<class 'numpy.ndarray'>\n"
          ]
        }
      ]
    },
    {
      "cell_type": "code",
      "source": [
        "# Get the Adjacency List from the Graph\n",
        "for i in range(len(main_df)):\n",
        "  # If the user is unique then add "
      ],
      "metadata": {
        "colab": {
          "base_uri": "https://localhost:8080/"
        },
        "id": "YhPAFnlBR968",
        "outputId": "317a1f49-f152-4398-e63a-73221ddeac8f"
      },
      "execution_count": 10,
      "outputs": [
        {
          "output_type": "stream",
          "name": "stdout",
          "text": [
            "Graph with 829 nodes and 1474 edges\n"
          ]
        }
      ]
    },
    {
      "cell_type": "code",
      "source": [
        "# There are 829 Users\n",
        "# 829*829 0s ni bnaav\n",
        "# Iterate over the main_df \n",
        "# Check for main_df.iloc[i,1]\n",
        "# Check for main_df.iloc[i,2] \n",
        "# Multiply those Values \n",
        "# List['Product']=1 # Replace that element with 1\n",
        "\n"
      ],
      "metadata": {
        "id": "emo3yZfHvA-K"
      },
      "execution_count": 18,
      "outputs": []
    },
    {
      "cell_type": "code",
      "source": [
        "List1=[0]*687241\n",
        "for i in range(len(main_df)):\n",
        "  src=main_df.iloc[i,0]\n",
        "  dest=main_df.iloc[i,1]\n",
        "  prod=src*dest\n",
        "  List1[prod]=1"
      ],
      "metadata": {
        "id": "nysjbcPxwkyL"
      },
      "execution_count": 20,
      "outputs": []
    },
    {
      "cell_type": "code",
      "source": [
        "List1=np.reshape(List1,(829,829))"
      ],
      "metadata": {
        "id": "Utvimit7xCXh"
      },
      "execution_count": 21,
      "outputs": []
    },
    {
      "cell_type": "code",
      "source": [
        "List1"
      ],
      "metadata": {
        "colab": {
          "base_uri": "https://localhost:8080/"
        },
        "id": "GQiJkB9VxG_l",
        "outputId": "0bded325-f59a-4ecb-ca7e-17fbb060cca2"
      },
      "execution_count": 22,
      "outputs": [
        {
          "output_type": "execute_result",
          "data": {
            "text/plain": [
              "array([[0, 1, 1, ..., 0, 0, 0],\n",
              "       [0, 0, 0, ..., 0, 0, 0],\n",
              "       [0, 0, 0, ..., 0, 0, 0],\n",
              "       ...,\n",
              "       [0, 0, 0, ..., 0, 0, 0],\n",
              "       [0, 0, 0, ..., 0, 0, 0],\n",
              "       [0, 0, 0, ..., 0, 0, 0]])"
            ]
          },
          "metadata": {},
          "execution_count": 22
        }
      ]
    },
    {
      "cell_type": "code",
      "source": [
        "get_pagerank(List1)"
      ],
      "metadata": {
        "colab": {
          "base_uri": "https://localhost:8080/"
        },
        "id": "cz2iiOKCxJO5",
        "outputId": "2c0b0ea9-3465-40ea-dfae-5170af728852"
      },
      "execution_count": 24,
      "outputs": [
        {
          "output_type": "stream",
          "name": "stderr",
          "text": [
            "/usr/local/lib/python3.7/dist-packages/ipykernel_launcher.py:23: RuntimeWarning: invalid value encountered in true_divide\n"
          ]
        },
        {
          "output_type": "execute_result",
          "data": {
            "text/plain": [
              "array([0.00255901, 0.00724112, 0.00046199, 0.00047979, 0.00075508,\n",
              "       0.00115256, 0.00074432, 0.00335997, 0.00198603, 0.0004236 ,\n",
              "       0.00070478, 0.00194814, 0.00564766, 0.00046758, 0.00122869,\n",
              "       0.00325213, 0.00320925, 0.00233416, 0.0047988 , 0.00042446,\n",
              "       0.00052322, 0.00056602, 0.00270096, 0.00042244, 0.00367854,\n",
              "       0.00162496, 0.00193286, 0.00158542, 0.00293224, 0.00391625,\n",
              "       0.00068931, 0.00511648, 0.00096299, 0.00045945, 0.00382328,\n",
              "       0.00042244, 0.0016752 , 0.00063882, 0.00046199, 0.00248932,\n",
              "       0.00046199, 0.00048367, 0.00046315, 0.00042244, 0.00112177,\n",
              "       0.00255592, 0.00055571, 0.0007328 , 0.00178854, 0.00151485,\n",
              "       0.00241918, 0.0086064 , 0.00574657, 0.00057578, 0.00126562,\n",
              "       0.00148134, 0.00059356, 0.00268001, 0.00042244, 0.00299659,\n",
              "       0.00043058, 0.00861318, 0.00286767, 0.00042244, 0.00042244,\n",
              "       0.000998  , 0.00044391, 0.00042244, 0.00043641, 0.00042244,\n",
              "       0.00050382, 0.00363248, 0.00102752, 0.00057979, 0.00102459,\n",
              "       0.0025266 , 0.00042244, 0.00081641, 0.00135003, 0.00042244,\n",
              "       0.00052319, 0.00088327, 0.00044699, 0.00194891, 0.0004236 ,\n",
              "       0.00093327, 0.00066024, 0.00083313, 0.00422118, 0.00195309,\n",
              "       0.00191291, 0.00042244, 0.00891545, 0.00058737, 0.00160111,\n",
              "       0.00046199, 0.00046199, 0.00075376, 0.00157622, 0.00066715,\n",
              "       0.00042244, 0.00106973, 0.00055344, 0.00443386, 0.00061645,\n",
              "       0.00042244, 0.0008549 , 0.00042244, 0.00061247, 0.0018316 ,\n",
              "       0.00262209, 0.00067381, 0.00299216, 0.00489993, 0.00138449,\n",
              "       0.00055174, 0.00417276, 0.00090984, 0.00042244, 0.00082723,\n",
              "       0.00042244, 0.00083734, 0.00064976, 0.0037384 , 0.00046881,\n",
              "       0.00338986, 0.00135625, 0.00042244, 0.00065426, 0.00042244,\n",
              "       0.00065693, 0.0355893 , 0.00091407, 0.00069338, 0.00101564,\n",
              "       0.00155894, 0.00099793, 0.00068883, 0.00042244, 0.00281537,\n",
              "       0.000996  , 0.00085968, 0.00115408, 0.00089169, 0.00087609,\n",
              "       0.00042244, 0.00042244, 0.00057758, 0.00042244, 0.00042244,\n",
              "       0.00048414, 0.00042244, 0.00056801, 0.00505687, 0.00055299,\n",
              "       0.00098763, 0.00454262, 0.00042244, 0.00194054, 0.00197426,\n",
              "       0.0008181 , 0.00047515, 0.00096779, 0.00114917, 0.0010204 ,\n",
              "       0.00042244, 0.00042302, 0.00051143, 0.00100233, 0.00118069,\n",
              "       0.00042244, 0.00181315, 0.00053749, 0.00069326, 0.00156658,\n",
              "       0.00042244, 0.0024071 , 0.00113307, 0.00095797, 0.00074435,\n",
              "       0.00069019, 0.00090267, 0.00193807, 0.00327381, 0.00042244,\n",
              "       0.00390901, 0.01175052, 0.00057298, 0.00096443, 0.00067638,\n",
              "       0.00042244, 0.00086607, 0.00075688, 0.00108058, 0.00068301,\n",
              "       0.00097264, 0.00064893, 0.00047374, 0.00074118, 0.00042244,\n",
              "       0.00057746, 0.00081934, 0.00089399, 0.00526819, 0.0029752 ,\n",
              "       0.00047571, 0.00042244, 0.00057712, 0.00042244, 0.00210286,\n",
              "       0.00053512, 0.0012615 , 0.00163649, 0.00046523, 0.00126542,\n",
              "       0.00046881, 0.00042244, 0.00042322, 0.00096455, 0.00078189,\n",
              "       0.00126511, 0.00042244, 0.00069326, 0.00095493, 0.00071228,\n",
              "       0.00042355, 0.00090106, 0.00238672, 0.00042322, 0.00070447,\n",
              "       0.00068886, 0.00042244, 0.00088726, 0.00042244, 0.00042244,\n",
              "       0.00042244, 0.00050098, 0.00042244, 0.00097964, 0.00047593,\n",
              "       0.0024006 , 0.00042244, 0.00087512, 0.00071554, 0.00042244,\n",
              "       0.00101946, 0.00312101, 0.00439695, 0.00083879, 0.00095563,\n",
              "       0.00195494, 0.00051221, 0.00063108, 0.00042244, 0.00088251,\n",
              "       0.00042244, 0.00077153, 0.01236025, 0.00050458, 0.00178563,\n",
              "       0.00076766, 0.00300515, 0.00058338, 0.00155628, 0.00084805,\n",
              "       0.00082789, 0.00054213, 0.00042244, 0.00042244, 0.00042244,\n",
              "       0.0006281 , 0.00127712, 0.00051143, 0.00096607, 0.00080671,\n",
              "       0.00042244, 0.00075442, 0.00133106, 0.00042244, 0.00703226,\n",
              "       0.00050098, 0.00042477, 0.00042244, 0.00129082, 0.00076902,\n",
              "       0.00054213, 0.00097543, 0.0004952 , 0.00066157, 0.00042244,\n",
              "       0.00042244, 0.00057591, 0.00048367, 0.0004236 , 0.00078353,\n",
              "       0.00054213, 0.00054245, 0.00079231, 0.00054992, 0.00201717,\n",
              "       0.00054213, 0.00220798, 0.00229714, 0.00085984, 0.00415985,\n",
              "       0.00117032, 0.0013002 , 0.00300042, 0.0005112 , 0.00046733,\n",
              "       0.00087466, 0.00084387, 0.00076534, 0.00042244, 0.00097226,\n",
              "       0.00204423, 0.00076037, 0.00042244, 0.00048753, 0.00042244,\n",
              "       0.00135331, 0.00093617, 0.0008186 , 0.00087224, 0.00087566,\n",
              "       0.00058505, 0.00113365, 0.00123266, 0.00260615, 0.00229073,\n",
              "       0.00046199, 0.00064618, 0.00042244, 0.00042244, 0.00088326,\n",
              "       0.00042244, 0.00042244, 0.00077402, 0.00067881, 0.00506396,\n",
              "       0.001009  , 0.00095151, 0.0005718 , 0.00178552, 0.00068301,\n",
              "       0.00166778, 0.00047571, 0.00050098, 0.00061887, 0.00103634,\n",
              "       0.00072808, 0.0007328 , 0.00195758, 0.00056524, 0.00042244,\n",
              "       0.00045982, 0.00042244, 0.00056524, 0.00044699, 0.00137885,\n",
              "       0.00117464, 0.00051221, 0.00092925, 0.00214531, 0.00078286,\n",
              "       0.00042244, 0.00069873, 0.00042244, 0.00085611, 0.00042244,\n",
              "       0.00103893, 0.00042244, 0.00289344, 0.00042244, 0.00179839,\n",
              "       0.00193636, 0.00213348, 0.00042244, 0.00057406, 0.00042244,\n",
              "       0.00121411, 0.00212491, 0.00042244, 0.00050422, 0.00132177,\n",
              "       0.00068372, 0.0032328 , 0.00042244, 0.00042244, 0.00086339,\n",
              "       0.0010504 , 0.00108221, 0.00042244, 0.00501321, 0.00048367,\n",
              "       0.00503256, 0.00077407, 0.00085544, 0.00081908, 0.0004236 ,\n",
              "       0.00042244, 0.00076534, 0.00164604, 0.00081614, 0.00064377,\n",
              "       0.00042244, 0.00042244, 0.00042244, 0.00161815, 0.00458528,\n",
              "       0.00047593, 0.00078514, 0.00217346, 0.00060651, 0.00148645,\n",
              "       0.00042244, 0.00128898, 0.00042244, 0.00064228, 0.00046733,\n",
              "       0.00047398, 0.00048982, 0.00049224, 0.00050458, 0.00052311,\n",
              "       0.00120993, 0.00171298, 0.0006281 , 0.00205954, 0.00042244,\n",
              "       0.00042244, 0.0008192 , 0.00147312, 0.00238958, 0.0008163 ,\n",
              "       0.00077724, 0.00080932, 0.00074478, 0.00059911, 0.00084505,\n",
              "       0.00042244, 0.00042244, 0.00048229, 0.00045245, 0.00042244,\n",
              "       0.00054352, 0.00051653, 0.00042244, 0.00042244, 0.00226851,\n",
              "       0.00042244, 0.00090267, 0.00169563, 0.00042244, 0.00049426,\n",
              "       0.00146496, 0.00187994, 0.00349533, 0.00081295, 0.00122663,\n",
              "       0.00042244, 0.0007146 , 0.00042244, 0.00042244, 0.00099746,\n",
              "       0.00093499, 0.00241987, 0.00058795, 0.00042244, 0.00092837,\n",
              "       0.00042244, 0.00046733, 0.00077967, 0.00044391, 0.00099076,\n",
              "       0.00132926, 0.00042244, 0.00114479, 0.00108824, 0.00042244,\n",
              "       0.00094296, 0.00096607, 0.00097284, 0.000641  , 0.00042244,\n",
              "       0.00111629, 0.00093944, 0.00193807, 0.00064574, 0.00050458,\n",
              "       0.00133155, 0.00042244, 0.00213134, 0.00061887, 0.00151542,\n",
              "       0.00081166, 0.00252971, 0.0015189 , 0.00086935, 0.00181402,\n",
              "       0.00089347, 0.00058505, 0.00094603, 0.00042244, 0.00046199,\n",
              "       0.00109892, 0.00068584, 0.00136678, 0.00042244, 0.00107461,\n",
              "       0.0013031 , 0.00113188, 0.00056191, 0.00106288, 0.00091214,\n",
              "       0.00229706, 0.00060198, 0.00134396, 0.0007178 , 0.00045945,\n",
              "       0.00074455, 0.00205652, 0.00050475, 0.00131369, 0.00056439,\n",
              "       0.00174973, 0.00101   , 0.00042244, 0.00063127, 0.00048367,\n",
              "       0.00042244, 0.00075917, 0.00210844, 0.00128253, 0.00099535,\n",
              "       0.00079421, 0.00054213, 0.00042244, 0.00063014, 0.00077724,\n",
              "       0.00174603, 0.00042244, 0.00183382, 0.00100086, 0.00163374,\n",
              "       0.00042244, 0.00174907, 0.00050822, 0.00042244, 0.00063744,\n",
              "       0.00050809, 0.00042244, 0.00046881, 0.00079564, 0.00073345,\n",
              "       0.00042244, 0.00076569, 0.00108093, 0.00042244, 0.00142772,\n",
              "       0.00271872, 0.00201556, 0.00256476, 0.003049  , 0.00142657,\n",
              "       0.00061193, 0.00130777, 0.00047571, 0.00114134, 0.002039  ,\n",
              "       0.00045966, 0.00080604, 0.00042244, 0.00042244, 0.00068301,\n",
              "       0.00042244, 0.00122824, 0.00085603, 0.00087566, 0.00175584,\n",
              "       0.00073879, 0.00042244, 0.00102245, 0.00135209, 0.00110637,\n",
              "       0.00047593, 0.00049224, 0.0011118 , 0.00095975, 0.0015625 ,\n",
              "       0.00197637, 0.0005223 , 0.00056801, 0.00042244, 0.0005699 ,\n",
              "       0.00074435, 0.00042244, 0.00087111, 0.00042244, 0.00117048,\n",
              "       0.00078789, 0.00066596, 0.00064104, 0.00042244, 0.00133578,\n",
              "       0.00101573, 0.00064574, 0.0017807 , 0.00042244, 0.00114154,\n",
              "       0.00098126, 0.00042244, 0.00070361, 0.00080189, 0.00049791,\n",
              "       0.00131373, 0.00184593, 0.00066664, 0.00539414, 0.00236334,\n",
              "       0.00171607, 0.00042244, 0.0011228 , 0.00042244, 0.00042244,\n",
              "       0.00082356, 0.00066531, 0.00133802, 0.00064976, 0.00130697,\n",
              "       0.00068938, 0.00093549, 0.00162023, 0.0035307 , 0.00042244,\n",
              "       0.0016282 , 0.00075611, 0.00042244, 0.00144152, 0.00060198,\n",
              "       0.00088518, 0.00072553, 0.00042244, 0.00054195, 0.00059562,\n",
              "       0.00050126, 0.00190322, 0.0006398 , 0.0005213 , 0.00042244,\n",
              "       0.00071094, 0.00114774, 0.00097878, 0.00079407, 0.00063619,\n",
              "       0.00115934, 0.00060198, 0.00048229, 0.00087566, 0.0009048 ,\n",
              "       0.00089793, 0.00055299, 0.00237502, 0.00097503, 0.00106428,\n",
              "       0.00042244, 0.0005718 , 0.00083914, 0.00048992, 0.00156639,\n",
              "       0.00057123, 0.00042244, 0.00049717, 0.00076212, 0.00063756,\n",
              "       0.00042244, 0.00042244, 0.00146902, 0.00042244, 0.00057214,\n",
              "       0.00051491, 0.00351048, 0.00092019, 0.00176398, 0.00042244,\n",
              "       0.00049426, 0.00070832, 0.00074102, 0.00042244, 0.00197329,\n",
              "       0.001192  , 0.0012325 , 0.00081609, 0.00048753, 0.00254755,\n",
              "       0.00052206, 0.00049452, 0.00042244, 0.00207656, 0.00112973,\n",
              "       0.00046523, 0.00042244, 0.00042244, 0.00057614, 0.00074474,\n",
              "       0.00070915, 0.0155479 , 0.00067805, 0.00092033, 0.00113586,\n",
              "       0.00182073, 0.00120789, 0.00042244, 0.00042244, 0.00061668,\n",
              "       0.00061668, 0.00073916, 0.00085584, 0.00117593, 0.00072557,\n",
              "       0.00042244, 0.00362096, 0.00042244, 0.00058505, 0.00373856,\n",
              "       0.00042244, 0.00061426, 0.00101402, 0.00063014, 0.00042244,\n",
              "       0.00157276, 0.00060494, 0.00055367, 0.00106515, 0.00042244,\n",
              "       0.00073072, 0.00055299, 0.00123722, 0.00072126, 0.00084334,\n",
              "       0.00130641, 0.00068871, 0.00082698, 0.0013224 , 0.00096579,\n",
              "       0.01645765, 0.00042244, 0.00055065, 0.00055299, 0.00167026,\n",
              "       0.00074281, 0.00074452, 0.00051143, 0.00070971, 0.00085845,\n",
              "       0.00067427, 0.00082899, 0.00044699, 0.00121158, 0.0021268 ,\n",
              "       0.00042244, 0.00111962, 0.00074389, 0.00140052, 0.00095676,\n",
              "       0.00064471, 0.00061817, 0.00051754, 0.0007328 , 0.00056123,\n",
              "       0.00042244, 0.000593  , 0.00109282, 0.00306434, 0.00142507,\n",
              "       0.00042244, 0.00047593, 0.00227378, 0.00042244, 0.00061668,\n",
              "       0.00042244, 0.00042244, 0.00066969, 0.00057712, 0.0016552 ,\n",
              "       0.00075683, 0.00042244, 0.00054213, 0.00108788, 0.00083458,\n",
              "       0.00042244, 0.00121448, 0.00058602, 0.00217744, 0.00083504,\n",
              "       0.00096011, 0.00042244, 0.00065501, 0.00042244, 0.00049937,\n",
              "       0.00074713, 0.001292  , 0.00114452, 0.00075697, 0.00331013,\n",
              "       0.00049426, 0.00060198, 0.00054235, 0.00058615, 0.00042244,\n",
              "       0.00124786, 0.00392384, 0.00252486, 0.00063635, 0.00049224,\n",
              "       0.00142447, 0.00068931, 0.00042244, 0.00042244, 0.00042244,\n",
              "       0.00042244, 0.00059433, 0.00276851, 0.00114163, 0.00044391,\n",
              "       0.00125329, 0.00092865, 0.00063549, 0.00056782])"
            ]
          },
          "metadata": {},
          "execution_count": 24
        }
      ]
    }
  ]
}